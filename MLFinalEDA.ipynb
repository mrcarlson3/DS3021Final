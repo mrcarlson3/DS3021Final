{
 "cells": [
  {
   "cell_type": "markdown",
   "metadata": {},
   "source": [
    "# Exploratory Data Analysis for Obesity Data Set \n",
    "#### You might have to download this notebook to see our Plotly visualizations - they aren't showing up in our Github preview.\n",
    "by Grace Pitts, Michael Carlson, and Alka Link"
   ]
  },
  {
   "cell_type": "code",
   "execution_count": 2,
   "metadata": {},
   "outputs": [
    {
     "name": "stdout",
     "output_type": "stream",
     "text": [
      "<class 'pandas.core.frame.DataFrame'>\n",
      "RangeIndex: 2111 entries, 0 to 2110\n",
      "Data columns (total 17 columns):\n",
      " #   Column                          Non-Null Count  Dtype  \n",
      "---  ------                          --------------  -----  \n",
      " 0   Gender                          2111 non-null   object \n",
      " 1   Age                             2111 non-null   float64\n",
      " 2   Height                          2111 non-null   float64\n",
      " 3   Weight                          2111 non-null   float64\n",
      " 4   family_history_with_overweight  2111 non-null   object \n",
      " 5   FAVC                            2111 non-null   object \n",
      " 6   FCVC                            2111 non-null   float64\n",
      " 7   NCP                             2111 non-null   float64\n",
      " 8   CAEC                            2111 non-null   object \n",
      " 9   SMOKE                           2111 non-null   object \n",
      " 10  CH2O                            2111 non-null   float64\n",
      " 11  SCC                             2111 non-null   object \n",
      " 12  FAF                             2111 non-null   float64\n",
      " 13  TUE                             2111 non-null   float64\n",
      " 14  CALC                            2111 non-null   object \n",
      " 15  MTRANS                          2111 non-null   object \n",
      " 16  NObeyesdad                      2111 non-null   object \n",
      "dtypes: float64(8), object(9)\n",
      "memory usage: 280.5+ KB\n"
     ]
    }
   ],
   "source": [
    "# load in data set \n",
    "import pandas as pd\n",
    "df = pd.read_csv('ObesityDataSet-1.csv')\n",
    "\n",
    "# check number of variables, rows, data types, and null values\n",
    "df.info()\n"
   ]
  },
  {
   "cell_type": "markdown",
   "metadata": {},
   "source": [
    "| Variable Name    | Meaning |\n",
    "| -------- | ------- |\n",
    "| Gender  | Gender    |\n",
    "| Age | Age     |\n",
    "| Height    | Height (m)    |\n",
    "| Weight    | Weight (kg)    |\n",
    "| family_history_with_overweight  | Has a family member been/is overweight?   |\n",
    "| FAVC | Do you eat high caloric food frequently?     |\n",
    "| FCVC    | Do you usually eat vegetables in your meals?  |\n",
    "| NCP  | How many main meals do you have daily?    |\n",
    "| CAEC | Do you eat any food between meals?     |\n",
    "| SMOKE    | Do you smoke?    |\n",
    "| CH2O  | How much water do you drink daily?    |\n",
    "| SCC | Do you monitor the calories you eat daily?     |\n",
    "| FAF    | How often do you have physical exercise?    |\n",
    "| TUE  | How much time to you use technological devices?    |\n",
    "| CALC | How often do you drink alcohol?     |\n",
    "| MTRANS    | Which transportation do you usually use?    |\n",
    "| NObeyesdad  | Obesity level    |\n",
    "\n"
   ]
  },
  {
   "cell_type": "markdown",
   "metadata": {},
   "source": [
    "Data has no missing values and each variable is the right data type for analysis. Let's explore the data!"
   ]
  },
  {
   "cell_type": "code",
   "execution_count": 3,
   "metadata": {},
   "outputs": [
    {
     "data": {
      "application/vnd.plotly.v1+json": {
       "config": {
        "plotlyServerURL": "https://plot.ly"
       },
       "data": [
        {
         "hovertemplate": "Obesity Category=%{x}<br>Count=%{y}<extra></extra>",
         "legendgroup": "Obesity_Type_I",
         "marker": {
          "color": "rgb(254, 246, 181)",
          "pattern": {
           "shape": ""
          }
         },
         "name": "Obesity_Type_I",
         "orientation": "v",
         "showlegend": true,
         "textposition": "auto",
         "type": "bar",
         "x": [
          "Obesity_Type_I"
         ],
         "xaxis": "x",
         "y": {
          "bdata": "XwE=",
          "dtype": "i2"
         },
         "yaxis": "y"
        },
        {
         "hovertemplate": "Obesity Category=%{x}<br>Count=%{y}<extra></extra>",
         "legendgroup": "Obesity_Type_III",
         "marker": {
          "color": "rgb(255, 221, 154)",
          "pattern": {
           "shape": ""
          }
         },
         "name": "Obesity_Type_III",
         "orientation": "v",
         "showlegend": true,
         "textposition": "auto",
         "type": "bar",
         "x": [
          "Obesity_Type_III"
         ],
         "xaxis": "x",
         "y": {
          "bdata": "RAE=",
          "dtype": "i2"
         },
         "yaxis": "y"
        },
        {
         "hovertemplate": "Obesity Category=%{x}<br>Count=%{y}<extra></extra>",
         "legendgroup": "Obesity_Type_II",
         "marker": {
          "color": "rgb(255, 194, 133)",
          "pattern": {
           "shape": ""
          }
         },
         "name": "Obesity_Type_II",
         "orientation": "v",
         "showlegend": true,
         "textposition": "auto",
         "type": "bar",
         "x": [
          "Obesity_Type_II"
         ],
         "xaxis": "x",
         "y": {
          "bdata": "KQE=",
          "dtype": "i2"
         },
         "yaxis": "y"
        },
        {
         "hovertemplate": "Obesity Category=%{x}<br>Count=%{y}<extra></extra>",
         "legendgroup": "Overweight_Level_I",
         "marker": {
          "color": "rgb(255, 166, 121)",
          "pattern": {
           "shape": ""
          }
         },
         "name": "Overweight_Level_I",
         "orientation": "v",
         "showlegend": true,
         "textposition": "auto",
         "type": "bar",
         "x": [
          "Overweight_Level_I"
         ],
         "xaxis": "x",
         "y": {
          "bdata": "IgE=",
          "dtype": "i2"
         },
         "yaxis": "y"
        },
        {
         "hovertemplate": "Obesity Category=%{x}<br>Count=%{y}<extra></extra>",
         "legendgroup": "Overweight_Level_II",
         "marker": {
          "color": "rgb(250, 138, 118)",
          "pattern": {
           "shape": ""
          }
         },
         "name": "Overweight_Level_II",
         "orientation": "v",
         "showlegend": true,
         "textposition": "auto",
         "type": "bar",
         "x": [
          "Overweight_Level_II"
         ],
         "xaxis": "x",
         "y": {
          "bdata": "IgE=",
          "dtype": "i2"
         },
         "yaxis": "y"
        },
        {
         "hovertemplate": "Obesity Category=%{x}<br>Count=%{y}<extra></extra>",
         "legendgroup": "Normal_Weight",
         "marker": {
          "color": "rgb(241, 109, 122)",
          "pattern": {
           "shape": ""
          }
         },
         "name": "Normal_Weight",
         "orientation": "v",
         "showlegend": true,
         "textposition": "auto",
         "type": "bar",
         "x": [
          "Normal_Weight"
         ],
         "xaxis": "x",
         "y": {
          "bdata": "HwE=",
          "dtype": "i2"
         },
         "yaxis": "y"
        },
        {
         "hovertemplate": "Obesity Category=%{x}<br>Count=%{y}<extra></extra>",
         "legendgroup": "Insufficient_Weight",
         "marker": {
          "color": "rgb(225, 83, 131)",
          "pattern": {
           "shape": ""
          }
         },
         "name": "Insufficient_Weight",
         "orientation": "v",
         "showlegend": true,
         "textposition": "auto",
         "type": "bar",
         "x": [
          "Insufficient_Weight"
         ],
         "xaxis": "x",
         "y": {
          "bdata": "EAE=",
          "dtype": "i2"
         },
         "yaxis": "y"
        }
       ],
       "layout": {
        "barmode": "relative",
        "height": 600,
        "legend": {
         "title": {
          "text": "Obesity Category"
         },
         "tracegroupgap": 0
        },
        "margin": {
         "t": 60
        },
        "paper_bgcolor": "#efeee7",
        "plot_bgcolor": "#efeee7",
        "showlegend": false,
        "template": {
         "data": {
          "bar": [
           {
            "error_x": {
             "color": "#2a3f5f"
            },
            "error_y": {
             "color": "#2a3f5f"
            },
            "marker": {
             "line": {
              "color": "#E5ECF6",
              "width": 0.5
             },
             "pattern": {
              "fillmode": "overlay",
              "size": 10,
              "solidity": 0.2
             }
            },
            "type": "bar"
           }
          ],
          "barpolar": [
           {
            "marker": {
             "line": {
              "color": "#E5ECF6",
              "width": 0.5
             },
             "pattern": {
              "fillmode": "overlay",
              "size": 10,
              "solidity": 0.2
             }
            },
            "type": "barpolar"
           }
          ],
          "carpet": [
           {
            "aaxis": {
             "endlinecolor": "#2a3f5f",
             "gridcolor": "white",
             "linecolor": "white",
             "minorgridcolor": "white",
             "startlinecolor": "#2a3f5f"
            },
            "baxis": {
             "endlinecolor": "#2a3f5f",
             "gridcolor": "white",
             "linecolor": "white",
             "minorgridcolor": "white",
             "startlinecolor": "#2a3f5f"
            },
            "type": "carpet"
           }
          ],
          "choropleth": [
           {
            "colorbar": {
             "outlinewidth": 0,
             "ticks": ""
            },
            "type": "choropleth"
           }
          ],
          "contour": [
           {
            "colorbar": {
             "outlinewidth": 0,
             "ticks": ""
            },
            "colorscale": [
             [
              0,
              "#0d0887"
             ],
             [
              0.1111111111111111,
              "#46039f"
             ],
             [
              0.2222222222222222,
              "#7201a8"
             ],
             [
              0.3333333333333333,
              "#9c179e"
             ],
             [
              0.4444444444444444,
              "#bd3786"
             ],
             [
              0.5555555555555556,
              "#d8576b"
             ],
             [
              0.6666666666666666,
              "#ed7953"
             ],
             [
              0.7777777777777778,
              "#fb9f3a"
             ],
             [
              0.8888888888888888,
              "#fdca26"
             ],
             [
              1,
              "#f0f921"
             ]
            ],
            "type": "contour"
           }
          ],
          "contourcarpet": [
           {
            "colorbar": {
             "outlinewidth": 0,
             "ticks": ""
            },
            "type": "contourcarpet"
           }
          ],
          "heatmap": [
           {
            "colorbar": {
             "outlinewidth": 0,
             "ticks": ""
            },
            "colorscale": [
             [
              0,
              "#0d0887"
             ],
             [
              0.1111111111111111,
              "#46039f"
             ],
             [
              0.2222222222222222,
              "#7201a8"
             ],
             [
              0.3333333333333333,
              "#9c179e"
             ],
             [
              0.4444444444444444,
              "#bd3786"
             ],
             [
              0.5555555555555556,
              "#d8576b"
             ],
             [
              0.6666666666666666,
              "#ed7953"
             ],
             [
              0.7777777777777778,
              "#fb9f3a"
             ],
             [
              0.8888888888888888,
              "#fdca26"
             ],
             [
              1,
              "#f0f921"
             ]
            ],
            "type": "heatmap"
           }
          ],
          "histogram": [
           {
            "marker": {
             "pattern": {
              "fillmode": "overlay",
              "size": 10,
              "solidity": 0.2
             }
            },
            "type": "histogram"
           }
          ],
          "histogram2d": [
           {
            "colorbar": {
             "outlinewidth": 0,
             "ticks": ""
            },
            "colorscale": [
             [
              0,
              "#0d0887"
             ],
             [
              0.1111111111111111,
              "#46039f"
             ],
             [
              0.2222222222222222,
              "#7201a8"
             ],
             [
              0.3333333333333333,
              "#9c179e"
             ],
             [
              0.4444444444444444,
              "#bd3786"
             ],
             [
              0.5555555555555556,
              "#d8576b"
             ],
             [
              0.6666666666666666,
              "#ed7953"
             ],
             [
              0.7777777777777778,
              "#fb9f3a"
             ],
             [
              0.8888888888888888,
              "#fdca26"
             ],
             [
              1,
              "#f0f921"
             ]
            ],
            "type": "histogram2d"
           }
          ],
          "histogram2dcontour": [
           {
            "colorbar": {
             "outlinewidth": 0,
             "ticks": ""
            },
            "colorscale": [
             [
              0,
              "#0d0887"
             ],
             [
              0.1111111111111111,
              "#46039f"
             ],
             [
              0.2222222222222222,
              "#7201a8"
             ],
             [
              0.3333333333333333,
              "#9c179e"
             ],
             [
              0.4444444444444444,
              "#bd3786"
             ],
             [
              0.5555555555555556,
              "#d8576b"
             ],
             [
              0.6666666666666666,
              "#ed7953"
             ],
             [
              0.7777777777777778,
              "#fb9f3a"
             ],
             [
              0.8888888888888888,
              "#fdca26"
             ],
             [
              1,
              "#f0f921"
             ]
            ],
            "type": "histogram2dcontour"
           }
          ],
          "mesh3d": [
           {
            "colorbar": {
             "outlinewidth": 0,
             "ticks": ""
            },
            "type": "mesh3d"
           }
          ],
          "parcoords": [
           {
            "line": {
             "colorbar": {
              "outlinewidth": 0,
              "ticks": ""
             }
            },
            "type": "parcoords"
           }
          ],
          "pie": [
           {
            "automargin": true,
            "type": "pie"
           }
          ],
          "scatter": [
           {
            "fillpattern": {
             "fillmode": "overlay",
             "size": 10,
             "solidity": 0.2
            },
            "type": "scatter"
           }
          ],
          "scatter3d": [
           {
            "line": {
             "colorbar": {
              "outlinewidth": 0,
              "ticks": ""
             }
            },
            "marker": {
             "colorbar": {
              "outlinewidth": 0,
              "ticks": ""
             }
            },
            "type": "scatter3d"
           }
          ],
          "scattercarpet": [
           {
            "marker": {
             "colorbar": {
              "outlinewidth": 0,
              "ticks": ""
             }
            },
            "type": "scattercarpet"
           }
          ],
          "scattergeo": [
           {
            "marker": {
             "colorbar": {
              "outlinewidth": 0,
              "ticks": ""
             }
            },
            "type": "scattergeo"
           }
          ],
          "scattergl": [
           {
            "marker": {
             "colorbar": {
              "outlinewidth": 0,
              "ticks": ""
             }
            },
            "type": "scattergl"
           }
          ],
          "scattermap": [
           {
            "marker": {
             "colorbar": {
              "outlinewidth": 0,
              "ticks": ""
             }
            },
            "type": "scattermap"
           }
          ],
          "scattermapbox": [
           {
            "marker": {
             "colorbar": {
              "outlinewidth": 0,
              "ticks": ""
             }
            },
            "type": "scattermapbox"
           }
          ],
          "scatterpolar": [
           {
            "marker": {
             "colorbar": {
              "outlinewidth": 0,
              "ticks": ""
             }
            },
            "type": "scatterpolar"
           }
          ],
          "scatterpolargl": [
           {
            "marker": {
             "colorbar": {
              "outlinewidth": 0,
              "ticks": ""
             }
            },
            "type": "scatterpolargl"
           }
          ],
          "scatterternary": [
           {
            "marker": {
             "colorbar": {
              "outlinewidth": 0,
              "ticks": ""
             }
            },
            "type": "scatterternary"
           }
          ],
          "surface": [
           {
            "colorbar": {
             "outlinewidth": 0,
             "ticks": ""
            },
            "colorscale": [
             [
              0,
              "#0d0887"
             ],
             [
              0.1111111111111111,
              "#46039f"
             ],
             [
              0.2222222222222222,
              "#7201a8"
             ],
             [
              0.3333333333333333,
              "#9c179e"
             ],
             [
              0.4444444444444444,
              "#bd3786"
             ],
             [
              0.5555555555555556,
              "#d8576b"
             ],
             [
              0.6666666666666666,
              "#ed7953"
             ],
             [
              0.7777777777777778,
              "#fb9f3a"
             ],
             [
              0.8888888888888888,
              "#fdca26"
             ],
             [
              1,
              "#f0f921"
             ]
            ],
            "type": "surface"
           }
          ],
          "table": [
           {
            "cells": {
             "fill": {
              "color": "#EBF0F8"
             },
             "line": {
              "color": "white"
             }
            },
            "header": {
             "fill": {
              "color": "#C8D4E3"
             },
             "line": {
              "color": "white"
             }
            },
            "type": "table"
           }
          ]
         },
         "layout": {
          "annotationdefaults": {
           "arrowcolor": "#2a3f5f",
           "arrowhead": 0,
           "arrowwidth": 1
          },
          "autotypenumbers": "strict",
          "coloraxis": {
           "colorbar": {
            "outlinewidth": 0,
            "ticks": ""
           }
          },
          "colorscale": {
           "diverging": [
            [
             0,
             "#8e0152"
            ],
            [
             0.1,
             "#c51b7d"
            ],
            [
             0.2,
             "#de77ae"
            ],
            [
             0.3,
             "#f1b6da"
            ],
            [
             0.4,
             "#fde0ef"
            ],
            [
             0.5,
             "#f7f7f7"
            ],
            [
             0.6,
             "#e6f5d0"
            ],
            [
             0.7,
             "#b8e186"
            ],
            [
             0.8,
             "#7fbc41"
            ],
            [
             0.9,
             "#4d9221"
            ],
            [
             1,
             "#276419"
            ]
           ],
           "sequential": [
            [
             0,
             "#0d0887"
            ],
            [
             0.1111111111111111,
             "#46039f"
            ],
            [
             0.2222222222222222,
             "#7201a8"
            ],
            [
             0.3333333333333333,
             "#9c179e"
            ],
            [
             0.4444444444444444,
             "#bd3786"
            ],
            [
             0.5555555555555556,
             "#d8576b"
            ],
            [
             0.6666666666666666,
             "#ed7953"
            ],
            [
             0.7777777777777778,
             "#fb9f3a"
            ],
            [
             0.8888888888888888,
             "#fdca26"
            ],
            [
             1,
             "#f0f921"
            ]
           ],
           "sequentialminus": [
            [
             0,
             "#0d0887"
            ],
            [
             0.1111111111111111,
             "#46039f"
            ],
            [
             0.2222222222222222,
             "#7201a8"
            ],
            [
             0.3333333333333333,
             "#9c179e"
            ],
            [
             0.4444444444444444,
             "#bd3786"
            ],
            [
             0.5555555555555556,
             "#d8576b"
            ],
            [
             0.6666666666666666,
             "#ed7953"
            ],
            [
             0.7777777777777778,
             "#fb9f3a"
            ],
            [
             0.8888888888888888,
             "#fdca26"
            ],
            [
             1,
             "#f0f921"
            ]
           ]
          },
          "colorway": [
           "#636efa",
           "#EF553B",
           "#00cc96",
           "#ab63fa",
           "#FFA15A",
           "#19d3f3",
           "#FF6692",
           "#B6E880",
           "#FF97FF",
           "#FECB52"
          ],
          "font": {
           "color": "#2a3f5f"
          },
          "geo": {
           "bgcolor": "white",
           "lakecolor": "white",
           "landcolor": "#E5ECF6",
           "showlakes": true,
           "showland": true,
           "subunitcolor": "white"
          },
          "hoverlabel": {
           "align": "left"
          },
          "hovermode": "closest",
          "mapbox": {
           "style": "light"
          },
          "paper_bgcolor": "white",
          "plot_bgcolor": "#E5ECF6",
          "polar": {
           "angularaxis": {
            "gridcolor": "white",
            "linecolor": "white",
            "ticks": ""
           },
           "bgcolor": "#E5ECF6",
           "radialaxis": {
            "gridcolor": "white",
            "linecolor": "white",
            "ticks": ""
           }
          },
          "scene": {
           "xaxis": {
            "backgroundcolor": "#E5ECF6",
            "gridcolor": "white",
            "gridwidth": 2,
            "linecolor": "white",
            "showbackground": true,
            "ticks": "",
            "zerolinecolor": "white"
           },
           "yaxis": {
            "backgroundcolor": "#E5ECF6",
            "gridcolor": "white",
            "gridwidth": 2,
            "linecolor": "white",
            "showbackground": true,
            "ticks": "",
            "zerolinecolor": "white"
           },
           "zaxis": {
            "backgroundcolor": "#E5ECF6",
            "gridcolor": "white",
            "gridwidth": 2,
            "linecolor": "white",
            "showbackground": true,
            "ticks": "",
            "zerolinecolor": "white"
           }
          },
          "shapedefaults": {
           "line": {
            "color": "#2a3f5f"
           }
          },
          "ternary": {
           "aaxis": {
            "gridcolor": "white",
            "linecolor": "white",
            "ticks": ""
           },
           "baxis": {
            "gridcolor": "white",
            "linecolor": "white",
            "ticks": ""
           },
           "bgcolor": "#E5ECF6",
           "caxis": {
            "gridcolor": "white",
            "linecolor": "white",
            "ticks": ""
           }
          },
          "title": {
           "x": 0.05
          },
          "xaxis": {
           "automargin": true,
           "gridcolor": "white",
           "linecolor": "white",
           "ticks": "",
           "title": {
            "standoff": 15
           },
           "zerolinecolor": "white",
           "zerolinewidth": 2
          },
          "yaxis": {
           "automargin": true,
           "gridcolor": "white",
           "linecolor": "white",
           "ticks": "",
           "title": {
            "standoff": 15
           },
           "zerolinecolor": "white",
           "zerolinewidth": 2
          }
         }
        },
        "title": {
         "font": {
          "color": "black",
          "size": 24,
          "weight": "bold"
         },
         "text": "Count of Each Obesity Category",
         "x": 0.5
        },
        "width": 800,
        "xaxis": {
         "anchor": "y",
         "categoryarray": [
          "Obesity_Type_I",
          "Obesity_Type_III",
          "Obesity_Type_II",
          "Overweight_Level_I",
          "Overweight_Level_II",
          "Normal_Weight",
          "Insufficient_Weight"
         ],
         "categoryorder": "array",
         "domain": [
          0,
          1
         ],
         "tickangle": 0,
         "tickfont": {
          "size": 8.5
         },
         "title": {
          "text": ""
         }
        },
        "yaxis": {
         "anchor": "x",
         "domain": [
          0,
          1
         ],
         "title": {
          "text": ""
         }
        }
       }
      }
     },
     "metadata": {},
     "output_type": "display_data"
    }
   ],
   "source": [
    "import plotly.express as px\n",
    "\n",
    "# count the number of each category in NObeyesdad to see if the distribution is balanced\n",
    "category_counts = df['NObeyesdad'].value_counts().reset_index()\n",
    "category_counts.columns = ['Obesity Category', 'Count']\n",
    "\n",
    "# bar graph\n",
    "fig = px.bar(\n",
    "    data_frame=category_counts,\n",
    "    x='Obesity Category',\n",
    "    y='Count',\n",
    "    labels={'Obesity Category': 'Obesity Category', 'Count': 'Count'},\n",
    "    color='Obesity Category',\n",
    "    color_discrete_sequence=px.colors.sequential.Pinkyl\n",
    ")\n",
    "\n",
    "fig.update_layout(\n",
    "    showlegend=False,\n",
    "    width=800,\n",
    "    height=600,\n",
    "    plot_bgcolor='#efeee7',\n",
    "    paper_bgcolor='#efeee7',\n",
    "    title={\n",
    "        'text': 'Count of Each Obesity Category',\n",
    "        'font': {'size': 24, 'color': 'black', 'weight': 'bold'},  # Bold title\n",
    "        'x': 0.5  },\n",
    "    xaxis=dict(\n",
    "        tickangle=0,  # Make x-axis labels straight\n",
    "        tickfont=dict(size=8.5),\n",
    "        title='',  # Make x-axis labels smaller\n",
    "    ),\n",
    "    yaxis_title='')\n",
    "fig.show()"
   ]
  },
  {
   "cell_type": "markdown",
   "metadata": {},
   "source": [
    "Each category of our target variable is balanced, which is important because our model will be able to perform well across all classes and provide meaningful predictions."
   ]
  },
  {
   "cell_type": "code",
   "execution_count": 4,
   "metadata": {},
   "outputs": [
    {
     "data": {
      "image/png": "[encoded data removed]",
      "text/plain": [
       "<Figure size 1000x800 with 2 Axes>"
      ]
     },
     "metadata": {},
     "output_type": "display_data"
    }
   ],
   "source": [
    "# create a correlation matrix of the dataset\n",
    "import seaborn as sns\n",
    "import matplotlib.pyplot as plt\n",
    "\n",
    "# select only numerical columns\n",
    "numeric_cols = df.select_dtypes(include=['float64', 'int64'])\n",
    "\n",
    "# make correlation matrix\n",
    "correlation_matrix = numeric_cols.corr()\n",
    "\n",
    "# plot the heatmap\n",
    "plt.figure(figsize=(10, 8))\n",
    "sns.heatmap(correlation_matrix, annot=True, cmap='coolwarm', fmt='.2f', linewidths=0.5)\n",
    "plt.title('Correlation Heatmap of Numerical Features')\n",
    "plt.tight_layout()\n",
    "plt.show()\n"
   ]
  },
  {
   "cell_type": "markdown",
   "metadata": {},
   "source": [
    "Weight is moderately correlated with Height (r = 0.46) and FCVC (frequency of vegetable consumption) shows a mild positive correlation with Weight (r = 0.22), which may suggest healthier habits associate with better weight control. Overall, correlations are generally weak, suggesting that obesity is influenced by a mix of lifestyle, behavioral, and physical factors rather than any single dominant variable."
   ]
  },
  {
   "cell_type": "code",
   "execution_count": 5,
   "metadata": {},
   "outputs": [
    {
     "data": {
      "application/vnd.plotly.v1+json": {
       "config": {
        "plotlyServerURL": "https://plot.ly"
       },
       "data": [
        {
         "alignmentgroup": "True",
         "hovertemplate": "Obesity Category=%{x}<br>Weight (kg)=%{y}<extra></extra>",
         "legendgroup": "",
         "marker": {
          "color": "#636efa"
         },
         "name": "",
         "notched": false,
         "offsetgroup": "",
         "orientation": "v",
         "showlegend": false,
         "type": "box",
         "x": [
          "Normal_Weight",
          "Normal_Weight",
          "Normal_Weight",
          "Overweight_Level_I",
          "Overweight_Level_II",
          "Normal_Weight",
          "Normal_Weight",
          "Normal_Weight",
          "Normal_Weight",
          "Normal_Weight",
          "Obesity_Type_I",
          "Overweight_Level_II",
          "Normal_Weight",
          "Obesity_Type_I",
          "Normal_Weight",
          "Normal_Weight",
          "Overweight_Level_II",
          "Obesity_Type_I",
          "Overweight_Level_II",
          "Overweight_Level_I",
          "Overweight_Level_II",
          "Obesity_Type_I",
          "Normal_Weight",
          "Obesity_Type_I",
          "Normal_Weight",
          "Normal_Weight",
          "Normal_Weight",
          "Normal_Weight",
          "Normal_Weight",
          "Normal_Weight",
          "Overweight_Level_I",
          "Overweight_Level_II",
          "Normal_Weight",
          "Overweight_Level_II",
          "Normal_Weight",
          "Overweight_Level_II",
          "Normal_Weight",
          "Normal_Weight",
          "Normal_Weight",
          "Overweight_Level_II",
          "Overweight_Level_I",
          "Normal_Weight",
          "Normal_Weight",
          "Normal_Weight",
          "Normal_Weight",
          "Overweight_Level_II",
          "Normal_Weight",
          "Normal_Weight",
          "Normal_Weight",
          "Normal_Weight",
          "Normal_Weight",
          "Normal_Weight",
          "Normal_Weight",
          "Normal_Weight",
          "Normal_Weight",
          "Normal_Weight",
          "Normal_Weight",
          "Normal_Weight",
          "Normal_Weight",
          "Insufficient_Weight",
          "Normal_Weight",
          "Normal_Weight",
          "Normal_Weight",
          "Normal_Weight",
          "Normal_Weight",
          "Overweight_Level_I",
          "Overweight_Level_II",
          "Obesity_Type_I",
          "Obesity_Type_II",
          "Normal_Weight",
          "Overweight_Level_II",
          "Insufficient_Weight",
          "Normal_Weight",
          "Normal_Weight",
          "Overweight_Level_II",
          "Insufficient_Weight",
          "Insufficient_Weight",
          "Overweight_Level_II",
          "Obesity_Type_I",
          "Normal_Weight",
          "Normal_Weight",
          "Overweight_Level_II",
          "Obesity_Type_I",
          "Insufficient_Weight",
          "Overweight_Level_II",
          "Normal_Weight",
          "Normal_Weight",
          "Overweight_Level_I",
          "Normal_Weight",
          "Overweight_Level_II",
          "Obesity_Type_II",
          "Normal_Weight",
          "Overweight_Level_I",
          "Normal_Weight",
          "Normal_Weight",
          "Normal_Weight",
          "Normal_Weight",
          "Insufficient_Weight",
          "Insufficient_Weight",
          "Normal_Weight",
          "Normal_Weight",
          "Normal_Weight",
          "Normal_Weight",
          "Normal_Weight",
          "Obesity_Type_I",
          "Normal_Weight",
          "Normal_Weight",
          "Overweight_Level_I",
          "Obesity_Type_I",
          "Obesity_Type_I",
          "Normal_Weight",
          "Normal_Weight",
          "Normal_Weight",
          "Normal_Weight",
          "Normal_Weight",
          "Normal_Weight",
          "Obesity_Type_I",
          "Overweight_Level_II",
          "Normal_Weight",
          "Overweight_Level_II",
          "Overweight_Level_I",
          "Overweight_Level_II",
          "Insufficient_Weight",
          "Normal_Weight",
          "Overweight_Level_II",
          "Overweight_Level_I",
          "Normal_Weight",
          "Normal_Weight",
          "Normal_Weight",
          "Overweight_Level_II",
          "Normal_Weight",
          "Normal_Weight",
          "Normal_Weight",
          "Normal_Weight",
          "Obesity_Type_I",
          "Overweight_Level_I",
          "Normal_Weight",
          "Obesity_Type_I",
          "Normal_Weight",
          "Normal_Weight",
          "Insufficient_Weight",
          "Normal_Weight",
          "Obesity_Type_I",
          "Overweight_Level_I",
          "Overweight_Level_I",
          "Overweight_Level_I",
          "Normal_Weight",
          "Obesity_Type_I",
          "Normal_Weight",
          "Obesity_Type_I",
          "Normal_Weight",
          "Normal_Weight",
          "Overweight_Level_I",
          "Overweight_Level_II",
          "Obesity_Type_I",
          "Normal_Weight",
          "Normal_Weight",
          "Normal_Weight",
          "Overweight_Level_I",
          "Overweight_Level_II",
          "Normal_Weight",
          "Overweight_Level_II",
          "Normal_Weight",
          "Normal_Weight",
          "Overweight_Level_II",
          "Obesity_Type_II",
          "Normal_Weight",
          "Overweight_Level_II",
          "Overweight_Level_I",
          "Overweight_Level_II",
          "Overweight_Level_II",
          "Normal_Weight",
          "Normal_Weight",
          "Normal_Weight",
          "Overweight_Level_I",
          "Normal_Weight",
          "Normal_Weight",
          "Normal_Weight",
          "Normal_Weight",
          "Overweight_Level_I",
          "Normal_Weight",
          "Normal_Weight",
          "Insufficient_Weight",
          "Overweight_Level_II",
          "Overweight_Level_I",
          "Overweight_Level_I",
          "Obesity_Type_I",
          "Obesity_Type_I",
          "Obesity_Type_I",
          "Normal_Weight",
          "Normal_Weight",
          "Overweight_Level_I",
          "Overweight_Level_I",
          "Normal_Weight",
          "Obesity_Type_I",
          "Overweight_Level_I",
          "Normal_Weight",
          "Obesity_Type_II",
          "Insufficient_Weight",
          "Normal_Weight",
          "Obesity_Type_I",
          "Obesity_Type_I",
          "Obesity_Type_III",
          "Obesity_Type_I",
          "Normal_Weight",
          "Obesity_Type_I",
          "Obesity_Type_I",
          "Normal_Weight",
          "Normal_Weight",
          "Normal_Weight",
          "Obesity_Type_II",
          "Normal_Weight",
          "Overweight_Level_II",
          "Normal_Weight",
          "Normal_Weight",
          "Normal_Weight",
          "Normal_Weight",
          "Overweight_Level_I",
          "Normal_Weight",
          "Overweight_Level_I",
          "Overweight_Level_I",
          "Overweight_Level_II",
          "Normal_Weight",
          "Normal_Weight",
          "Obesity_Type_I",
          "Obesity_Type_II",
          "Normal_Weight",
          "Normal_Weight",
          "Overweight_Level_II",
          "Obesity_Type_II",
          "Overweight_Level_I",
          "Normal_Weight",
          "Normal_Weight",
          "Overweight_Level_II",
          "Normal_Weight",
          "Normal_Weight",
          "Normal_Weight",
          "Normal_Weight",
          "Normal_Weight",
          "Normal_Weight",
          "Normal_Weight",
          "Overweight_Level_I",
          "Normal_Weight",
          "Overweight_Level_II",
          "Normal_Weight",
          "Insufficient_Weight",
          "Normal_Weight",
          "Normal_Weight",
          "Normal_Weight",
          "Overweight_Level_I",
          "Overweight_Level_II",
          "Overweight_Level_II",
          "Overweight_Level_II",
          "Normal_Weight",
          "Normal_Weight",
          "Overweight_Level_I",
          "Overweight_Level_II",
          "Obesity_Type_I",
          "Overweight_Level_II",
          "Obesity_Type_I",
          "Overweight_Level_I",
          "Overweight_Level_I",
          "Normal_Weight",
          "Insufficient_Weight",
          "Normal_Weight",
          "Insufficient_Weight",
          "Insufficient_Weight",
          "Overweight_Level_II",
          "Normal_Weight",
          "Normal_Weight",
          "Obesity_Type_I",
          "Normal_Weight",
          "Normal_Weight",
          "Normal_Weight",
          "Normal_Weight",
          "Normal_Weight",
          "Insufficient_Weight",
          "Normal_Weight",
          "Normal_Weight",
          "Insufficient_Weight",
          "Normal_Weight",
          "Normal_Weight",
          "Normal_Weight",
          "Normal_Weight",
          "Normal_Weight",
          "Obesity_Type_I",
          "Normal_Weight",
          "Normal_Weight",
          "Normal_Weight",
          "Normal_Weight",
          "Normal_Weight",
          "Insufficient_Weight",
          "Normal_Weight",
          "Normal_Weight",
          "Obesity_Type_I",
          "Normal_Weight",
          "Normal_Weight",
          "Overweight_Level_I",
          "Normal_Weight",
          "Overweight_Level_I",
          "Normal_Weight",
          "Normal_Weight",
          "Insufficient_Weight",
          "Normal_Weight",
          "Overweight_Level_I",
          "Obesity_Type_II",
          "Normal_Weight",
          "Normal_Weight",
          "Normal_Weight",
          "Normal_Weight",
          "Insufficient_Weight",
          "Normal_Weight",
          "Normal_Weight",
          "Normal_Weight",
          "Normal_Weight",
          "Normal_Weight",
          "Normal_Weight",
          "Normal_Weight",
          "Normal_Weight",
          "Overweight_Level_I",
          "Normal_Weight",
          "Normal_Weight",
          "Insufficient_Weight",
          "Normal_Weight",
          "Overweight_Level_I",
          "Normal_Weight",
          "Normal_Weight",
          "Overweight_Level_I",
          "Normal_Weight",
          "Obesity_Type_I",
          "Insufficient_Weight",
          "Normal_Weight",
          "Normal_Weight",
          "Normal_Weight",
          "Overweight_Level_I",
          "Insufficient_Weight",
          "Normal_Weight",
          "Normal_Weight",
          "Overweight_Level_I",
          "Insufficient_Weight",
          "Normal_Weight",
          "Normal_Weight",
          "Obesity_Type_I",
          "Normal_Weight",
          "Obesity_Type_III",
          "Normal_Weight",
          "Normal_Weight",
          "Overweight_Level_II",
          "Normal_Weight",
          "Obesity_Type_I",
          "Normal_Weight",
          "Normal_Weight",
          "Normal_Weight",
          "Normal_Weight",
          "Normal_Weight",
          "Overweight_Level_I",
          "Insufficient_Weight",
          "Normal_Weight",
          "Obesity_Type_II",
          "Normal_Weight",
          "Normal_Weight",
          "Obesity_Type_I",
          "Overweight_Level_I",
          "Normal_Weight",
          "Overweight_Level_I",
          "Normal_Weight",
          "Overweight_Level_II",
          "Overweight_Level_I",
          "Overweight_Level_II",
          "Overweight_Level_II",
          "Normal_Weight",
          "Overweight_Level_I",
          "Normal_Weight",
          "Normal_Weight",
          "Normal_Weight",
          "Overweight_Level_II",
          "Normal_Weight",
          "Normal_Weight",
          "Normal_Weight",
          "Normal_Weight",
          "Overweight_Level_II",
          "Normal_Weight",
          "Normal_Weight",
          "Obesity_Type_I",
          "Normal_Weight",
          "Normal_Weight",
          "Normal_Weight",
          "Obesity_Type_I",
          "Obesity_Type_I",
          "Overweight_Level_I",
          "Insufficient_Weight",
          "Insufficient_Weight",
          "Normal_Weight",
          "Overweight_Level_II",
          "Normal_Weight",
          "Insufficient_Weight",
          "Normal_Weight",
          "Normal_Weight",
          "Obesity_Type_II",
          "Normal_Weight",
          "Overweight_Level_I",
          "Normal_Weight",
          "Overweight_Level_II",
          "Obesity_Type_III",
          "Normal_Weight",
          "Overweight_Level_II",
          "Normal_Weight",
          "Overweight_Level_I",
          "Normal_Weight",
          "Normal_Weight",
          "Normal_Weight",
          "Overweight_Level_I",
          "Normal_Weight",
          "Overweight_Level_II",
          "Obesity_Type_I",
          "Normal_Weight",
          "Overweight_Level_I",
          "Overweight_Level_II",
          "Obesity_Type_I",
          "Obesity_Type_I",
          "Insufficient_Weight",
          "Insufficient_Weight",
          "Normal_Weight",
          "Overweight_Level_II",
          "Overweight_Level_I",
          "Normal_Weight",
          "Normal_Weight",
          "Normal_Weight",
          "Normal_Weight",
          "Normal_Weight",
          "Obesity_Type_I",
          "Normal_Weight",
          "Normal_Weight",
          "Normal_Weight",
          "Normal_Weight",
          "Overweight_Level_I",
          "Normal_Weight",
          "Normal_Weight",
          "Normal_Weight",
          "Normal_Weight",
          "Normal_Weight",
          "Normal_Weight",
          "Normal_Weight",
          "Insufficient_Weight",
          "Normal_Weight",
          "Normal_Weight",
          "Normal_Weight",
          "Overweight_Level_I",
          "Obesity_Type_II",
          "Normal_Weight",
          "Normal_Weight",
          "Normal_Weight",
          "Normal_Weight",
          "Normal_Weight",
          "Normal_Weight",
          "Normal_Weight",
          "Normal_Weight",
          "Normal_Weight",
          "Normal_Weight",
          "Overweight_Level_I",
          "Normal_Weight",
          "Obesity_Type_I",
          "Overweight_Level_II",
          "Normal_Weight",
          "Normal_Weight",
          "Normal_Weight",
          "Normal_Weight",
          "Normal_Weight",
          "Insufficient_Weight",
          "Insufficient_Weight",
          "Normal_Weight",
          "Obesity_Type_I",
          "Overweight_Level_II",
          "Normal_Weight",
          "Normal_Weight",
          "Overweight_Level_I",
          "Overweight_Level_I",
          "Normal_Weight",
          "Normal_Weight",
          "Normal_Weight",
          "Normal_Weight",
          "Normal_Weight",
          "Normal_Weight",
          "Overweight_Level_I",
          "Overweight_Level_II",
          "Normal_Weight",
          "Normal_Weight",
          "Obesity_Type_I",
          "Normal_Weight",
          "Normal_Weight",
          "Overweight_Level_II",
          "Normal_Weight",
          "Overweight_Level_II",
          "Normal_Weight",
          "Normal_Weight",
          "Normal_Weight",
          "Insufficient_Weight",
          "Normal_Weight",
          "Obesity_Type_III",
          "Obesity_Type_III",
          "Obesity_Type_III",
          "Obesity_Type_III",
          "Obesity_Type_III",
          "Obesity_Type_III",
          "Obesity_Type_III",
          "Obesity_Type_III",
          "Obesity_Type_III",
          "Insufficient_Weight",
          "Insufficient_Weight",
          "Insufficient_Weight",
          "Insufficient_Weight",
          "Insufficient_Weight",
          "Insufficient_Weight",
          "Insufficient_Weight",
          "Insufficient_Weight",
          "Insufficient_Weight",
          "Insufficient_Weight",
          "Insufficient_Weight",
          "Insufficient_Weight",
          "Insufficient_Weight",
          "Insufficient_Weight",
          "Insufficient_Weight",
          "Insufficient_Weight",
          "Insufficient_Weight",
          "Insufficient_Weight",
          "Insufficient_Weight",
          "Insufficient_Weight",
          "Insufficient_Weight",
          "Insufficient_Weight",
          "Insufficient_Weight",
          "Insufficient_Weight",
          "Insufficient_Weight",
          "Insufficient_Weight",
          "Insufficient_Weight",
          "Insufficient_Weight",
          "Insufficient_Weight",
          "Insufficient_Weight",
          "Insufficient_Weight",
          "Insufficient_Weight",
          "Insufficient_Weight",
          "Insufficient_Weight",
          "Insufficient_Weight",
          "Insufficient_Weight",
          "Insufficient_Weight",
          "Insufficient_Weight",
          "Insufficient_Weight",
          "Insufficient_Weight",
          "Insufficient_Weight",
          "Insufficient_Weight",
          "Insufficient_Weight",
          "Insufficient_Weight",
          "Insufficient_Weight",
          "Insufficient_Weight",
          "Insufficient_Weight",
          "Insufficient_Weight",
          "Insufficient_Weight",
          "Insufficient_Weight",
          "Insufficient_Weight",
          "Insufficient_Weight",
          "Insufficient_Weight",
          "Insufficient_Weight",
          "Insufficient_Weight",
          "Insufficient_Weight",
          "Insufficient_Weight",
          "Insufficient_Weight",
          "Insufficient_Weight",
          "Insufficient_Weight",
          "Insufficient_Weight",
          "Insufficient_Weight",
          "Insufficient_Weight",
          "Insufficient_Weight",
          "Insufficient_Weight",
          "Insufficient_Weight",
          "Insufficient_Weight",
          "Insufficient_Weight",
          "Insufficient_Weight",
          "Insufficient_Weight",
          "Insufficient_Weight",
          "Insufficient_Weight",
          "Insufficient_Weight",
          "Insufficient_Weight",
          "Insufficient_Weight",
          "Insufficient_Weight",
          "Insufficient_Weight",
          "Insufficient_Weight",
          "Insufficient_Weight",
          "Insufficient_Weight",
          "Insufficient_Weight",
          "Insufficient_Weight",
          "Insufficient_Weight",
          "Insufficient_Weight",
          "Insufficient_Weight",
          "Insufficient_Weight",
          "Insufficient_Weight",
          "Insufficient_Weight",
          "Insufficient_Weight",
          "Insufficient_Weight",
          "Insufficient_Weight",
          "Insufficient_Weight",
          "Insufficient_Weight",
          "Insufficient_Weight",
          "Insufficient_Weight",
          "Insufficient_Weight",
          "Insufficient_Weight",
          "Insufficient_Weight",
          "Insufficient_Weight",
          "Insufficient_Weight",
          "Insufficient_Weight",
          "Insufficient_Weight",
          "Insufficient_Weight",
          "Insufficient_Weight",
          "Insufficient_Weight",
          "Insufficient_Weight",
          "Insufficient_Weight",
          "Insufficient_Weight",
          "Insufficient_Weight",
          "Insufficient_Weight",
          "Insufficient_Weight",
          "Insufficient_Weight",
          "Insufficient_Weight",
          "Insufficient_Weight",
          "Insufficient_Weight",
          "Insufficient_Weight",
          "Insufficient_Weight",
          "Insufficient_Weight",
          "Insufficient_Weight",
          "Insufficient_Weight",
          "Insufficient_Weight",
          "Insufficient_Weight",
          "Insufficient_Weight",
          "Insufficient_Weight",
          "Insufficient_Weight",
          "Insufficient_Weight",
          "Insufficient_Weight",
          "Insufficient_Weight",
          "Insufficient_Weight",
          "Insufficient_Weight",
          "Insufficient_Weight",
          "Insufficient_Weight",
          "Insufficient_Weight",
          "Insufficient_Weight",
          "Insufficient_Weight",
          "Insufficient_Weight",
          "Insufficient_Weight",
          "Insufficient_Weight",
          "Insufficient_Weight",
          "Insufficient_Weight",
          "Insufficient_Weight",
          "Insufficient_Weight",
          "Insufficient_Weight",
          "Insufficient_Weight",
          "Insufficient_Weight",
          "Insufficient_Weight",
          "Insufficient_Weight",
          "Insufficient_Weight",
          "Insufficient_Weight",
          "Insufficient_Weight",
          "Insufficient_Weight",
          "Insufficient_Weight",
          "Insufficient_Weight",
          "Insufficient_Weight",
          "Insufficient_Weight",
          "Insufficient_Weight",
          "Insufficient_Weight",
          "Insufficient_Weight",
          "Insufficient_Weight",
          "Insufficient_Weight",
          "Insufficient_Weight",
          "Insufficient_Weight",
          "Insufficient_Weight",
          "Insufficient_Weight",
          "Insufficient_Weight",
          "Insufficient_Weight",
          "Insufficient_Weight",
          "Insufficient_Weight",
          "Insufficient_Weight",
          "Insufficient_Weight",
          "Insufficient_Weight",
          "Insufficient_Weight",
          "Insufficient_Weight",
          "Insufficient_Weight",
          "Insufficient_Weight",
          "Insufficient_Weight",
          "Insufficient_Weight",
          "Insufficient_Weight",
          "Insufficient_Weight",
          "Insufficient_Weight",
          "Insufficient_Weight",
          "Insufficient_Weight",
          "Insufficient_Weight",
          "Insufficient_Weight",
          "Insufficient_Weight",
          "Insufficient_Weight",
          "Insufficient_Weight",
          "Insufficient_Weight",
          "Insufficient_Weight",
          "Insufficient_Weight",
          "Insufficient_Weight",
          "Insufficient_Weight",
          "Insufficient_Weight",
          "Insufficient_Weight",
          "Insufficient_Weight",
          "Insufficient_Weight",
          "Insufficient_Weight",
          "Insufficient_Weight",
          "Insufficient_Weight",
          "Insufficient_Weight",
          "Insufficient_Weight",
          "Insufficient_Weight",
          "Insufficient_Weight",
          "Insufficient_Weight",
          "Insufficient_Weight",
          "Insufficient_Weight",
          "Insufficient_Weight",
          "Insufficient_Weight",
          "Insufficient_Weight",
          "Insufficient_Weight",
          "Insufficient_Weight",
          "Insufficient_Weight",
          "Insufficient_Weight",
          "Insufficient_Weight",
          "Insufficient_Weight",
          "Insufficient_Weight",
          "Insufficient_Weight",
          "Insufficient_Weight",
          "Insufficient_Weight",
          "Insufficient_Weight",
          "Insufficient_Weight",
          "Insufficient_Weight",
          "Insufficient_Weight",
          "Insufficient_Weight",
          "Insufficient_Weight",
          "Insufficient_Weight",
          "Insufficient_Weight",
          "Insufficient_Weight",
          "Insufficient_Weight",
          "Insufficient_Weight",
          "Insufficient_Weight",
          "Insufficient_Weight",
          "Insufficient_Weight",
          "Insufficient_Weight",
          "Insufficient_Weight",
          "Insufficient_Weight",
          "Insufficient_Weight",
          "Insufficient_Weight",
          "Overweight_Level_I",
          "Overweight_Level_I",
          "Overweight_Level_I",
          "Overweight_Level_I",
          "Overweight_Level_I",
          "Overweight_Level_I",
          "Overweight_Level_I",
          "Overweight_Level_I",
          "Overweight_Level_I",
          "Overweight_Level_I",
          "Overweight_Level_I",
          "Overweight_Level_I",
          "Overweight_Level_I",
          "Overweight_Level_I",
          "Overweight_Level_I",
          "Overweight_Level_I",
          "Overweight_Level_I",
          "Overweight_Level_I",
          "Overweight_Level_I",
          "Overweight_Level_I",
          "Overweight_Level_I",
          "Overweight_Level_I",
          "Overweight_Level_I",
          "Overweight_Level_I",
          "Overweight_Level_I",
          "Overweight_Level_I",
          "Overweight_Level_I",
          "Overweight_Level_I",
          "Overweight_Level_I",
          "Overweight_Level_I",
          "Overweight_Level_I",
          "Overweight_Level_I",
          "Overweight_Level_I",
          "Overweight_Level_I",
          "Overweight_Level_I",
          "Overweight_Level_I",
          "Overweight_Level_I",
          "Overweight_Level_I",
          "Overweight_Level_I",
          "Overweight_Level_I",
          "Overweight_Level_I",
          "Overweight_Level_I",
          "Overweight_Level_I",
          "Overweight_Level_I",
          "Overweight_Level_I",
          "Overweight_Level_I",
          "Overweight_Level_I",
          "Overweight_Level_I",
          "Overweight_Level_I",
          "Overweight_Level_I",
          "Overweight_Level_I",
          "Overweight_Level_I",
          "Overweight_Level_I",
          "Overweight_Level_I",
          "Overweight_Level_I",
          "Overweight_Level_I",
          "Overweight_Level_I",
          "Overweight_Level_I",
          "Overweight_Level_I",
          "Overweight_Level_I",
          "Overweight_Level_I",
          "Overweight_Level_I",
          "Overweight_Level_I",
          "Overweight_Level_I",
          "Overweight_Level_I",
          "Overweight_Level_I",
          "Overweight_Level_I",
          "Overweight_Level_I",
          "Overweight_Level_I",
          "Overweight_Level_I",
          "Overweight_Level_I",
          "Overweight_Level_I",
          "Overweight_Level_I",
          "Overweight_Level_I",
          "Overweight_Level_I",
          "Overweight_Level_I",
          "Overweight_Level_I",
          "Overweight_Level_I",
          "Overweight_Level_I",
          "Overweight_Level_I",
          "Overweight_Level_I",
          "Overweight_Level_I",
          "Overweight_Level_I",
          "Overweight_Level_I",
          "Overweight_Level_I",
          "Overweight_Level_I",
          "Overweight_Level_I",
          "Overweight_Level_I",
          "Overweight_Level_I",
          "Overweight_Level_I",
          "Overweight_Level_I",
          "Overweight_Level_I",
          "Overweight_Level_I",
          "Overweight_Level_I",
          "Overweight_Level_I",
          "Overweight_Level_I",
          "Overweight_Level_I",
          "Overweight_Level_I",
          "Overweight_Level_I",
          "Overweight_Level_I",
          "Overweight_Level_I",
          "Overweight_Level_I",
          "Overweight_Level_I",
          "Overweight_Level_I",
          "Overweight_Level_I",
          "Overweight_Level_I",
          "Overweight_Level_I",
          "Overweight_Level_I",
          "Overweight_Level_I",
          "Overweight_Level_I",
          "Overweight_Level_I",
          "Overweight_Level_I",
          "Overweight_Level_I",
          "Overweight_Level_I",
          "Overweight_Level_I",
          "Overweight_Level_I",
          "Overweight_Level_I",
          "Overweight_Level_I",
          "Overweight_Level_I",
          "Overweight_Level_I",
          "Overweight_Level_I",
          "Overweight_Level_I",
          "Overweight_Level_I",
          "Overweight_Level_I",
          "Overweight_Level_I",
          "Overweight_Level_I",
          "Overweight_Level_I",
          "Overweight_Level_I",
          "Overweight_Level_I",
          "Overweight_Level_I",
          "Overweight_Level_I",
          "Overweight_Level_I",
          "Overweight_Level_I",
          "Overweight_Level_I",
          "Overweight_Level_I",
          "Overweight_Level_I",
          "Overweight_Level_I",
          "Overweight_Level_I",
          "Overweight_Level_I",
          "Overweight_Level_I",
          "Overweight_Level_I",
          "Overweight_Level_I",
          "Overweight_Level_I",
          "Overweight_Level_I",
          "Overweight_Level_I",
          "Overweight_Level_I",
          "Overweight_Level_I",
          "Overweight_Level_I",
          "Overweight_Level_I",
          "Overweight_Level_I",
          "Overweight_Level_I",
          "Overweight_Level_I",
          "Overweight_Level_I",
          "Overweight_Level_I",
          "Overweight_Level_I",
          "Overweight_Level_I",
          "Overweight_Level_I",
          "Overweight_Level_I",
          "Overweight_Level_I",
          "Overweight_Level_I",
          "Overweight_Level_I",
          "Overweight_Level_I",
          "Overweight_Level_I",
          "Overweight_Level_I",
          "Overweight_Level_I",
          "Overweight_Level_I",
          "Overweight_Level_I",
          "Overweight_Level_I",
          "Overweight_Level_I",
          "Overweight_Level_I",
          "Overweight_Level_I",
          "Overweight_Level_I",
          "Overweight_Level_I",
          "Overweight_Level_I",
          "Overweight_Level_I",
          "Overweight_Level_I",
          "Overweight_Level_I",
          "Overweight_Level_I",
          "Overweight_Level_I",
          "Overweight_Level_I",
          "Overweight_Level_I",
          "Overweight_Level_I",
          "Overweight_Level_I",
          "Overweight_Level_I",
          "Overweight_Level_I",
          "Overweight_Level_I",
          "Overweight_Level_I",
          "Overweight_Level_I",
          "Overweight_Level_I",
          "Overweight_Level_I",
          "Overweight_Level_I",
          "Overweight_Level_I",
          "Overweight_Level_I",
          "Overweight_Level_I",
          "Overweight_Level_I",
          "Overweight_Level_I",
          "Overweight_Level_I",
          "Overweight_Level_I",
          "Overweight_Level_I",
          "Overweight_Level_I",
          "Overweight_Level_I",
          "Overweight_Level_I",
          "Overweight_Level_I",
          "Overweight_Level_I",
          "Overweight_Level_I",
          "Overweight_Level_I",
          "Overweight_Level_I",
          "Overweight_Level_I",
          "Overweight_Level_I",
          "Overweight_Level_I",
          "Overweight_Level_I",
          "Overweight_Level_I",
          "Overweight_Level_I",
          "Overweight_Level_I",
          "Overweight_Level_I",
          "Overweight_Level_I",
          "Overweight_Level_I",
          "Overweight_Level_I",
          "Overweight_Level_I",
          "Overweight_Level_I",
          "Overweight_Level_I",
          "Overweight_Level_I",
          "Overweight_Level_I",
          "Overweight_Level_I",
          "Overweight_Level_I",
          "Overweight_Level_I",
          "Overweight_Level_I",
          "Overweight_Level_I",
          "Overweight_Level_I",
          "Overweight_Level_I",
          "Overweight_Level_I",
          "Overweight_Level_I",
          "Overweight_Level_II",
          "Overweight_Level_II",
          "Overweight_Level_II",
          "Overweight_Level_II",
          "Overweight_Level_II",
          "Overweight_Level_II",
          "Overweight_Level_II",
          "Overweight_Level_II",
          "Overweight_Level_II",
          "Overweight_Level_II",
          "Overweight_Level_II",
          "Overweight_Level_II",
          "Overweight_Level_II",
          "Overweight_Level_II",
          "Overweight_Level_II",
          "Overweight_Level_II",
          "Overweight_Level_II",
          "Overweight_Level_II",
          "Overweight_Level_II",
          "Overweight_Level_II",
          "Overweight_Level_II",
          "Overweight_Level_II",
          "Overweight_Level_II",
          "Overweight_Level_II",
          "Overweight_Level_II",
          "Overweight_Level_II",
          "Overweight_Level_II",
          "Overweight_Level_II",
          "Overweight_Level_II",
          "Overweight_Level_II",
          "Overweight_Level_II",
          "Overweight_Level_II",
          "Overweight_Level_II",
          "Overweight_Level_II",
          "Overweight_Level_II",
          "Overweight_Level_II",
          "Overweight_Level_II",
          "Overweight_Level_II",
          "Overweight_Level_II",
          "Overweight_Level_II",
          "Overweight_Level_II",
          "Overweight_Level_II",
          "Overweight_Level_II",
          "Overweight_Level_II",
          "Overweight_Level_II",
          "Overweight_Level_II",
          "Overweight_Level_II",
          "Overweight_Level_II",
          "Overweight_Level_II",
          "Overweight_Level_II",
          "Overweight_Level_II",
          "Overweight_Level_II",
          "Overweight_Level_II",
          "Overweight_Level_II",
          "Overweight_Level_II",
          "Overweight_Level_II",
          "Overweight_Level_II",
          "Overweight_Level_II",
          "Overweight_Level_II",
          "Overweight_Level_II",
          "Overweight_Level_II",
          "Overweight_Level_II",
          "Overweight_Level_II",
          "Overweight_Level_II",
          "Overweight_Level_II",
          "Overweight_Level_II",
          "Overweight_Level_II",
          "Overweight_Level_II",
          "Overweight_Level_II",
          "Overweight_Level_II",
          "Overweight_Level_II",
          "Overweight_Level_II",
          "Overweight_Level_II",
          "Overweight_Level_II",
          "Overweight_Level_II",
          "Overweight_Level_II",
          "Overweight_Level_II",
          "Overweight_Level_II",
          "Overweight_Level_II",
          "Overweight_Level_II",
          "Overweight_Level_II",
          "Overweight_Level_II",
          "Overweight_Level_II",
          "Overweight_Level_II",
          "Overweight_Level_II",
          "Overweight_Level_II",
          "Overweight_Level_II",
          "Overweight_Level_II",
          "Overweight_Level_II",
          "Overweight_Level_II",
          "Overweight_Level_II",
          "Overweight_Level_II",
          "Overweight_Level_II",
          "Overweight_Level_II",
          "Overweight_Level_II",
          "Overweight_Level_II",
          "Overweight_Level_II",
          "Overweight_Level_II",
          "Overweight_Level_II",
          "Overweight_Level_II",
          "Overweight_Level_II",
          "Overweight_Level_II",
          "Overweight_Level_II",
          "Overweight_Level_II",
          "Overweight_Level_II",
          "Overweight_Level_II",
          "Overweight_Level_II",
          "Overweight_Level_II",
          "Overweight_Level_II",
          "Overweight_Level_II",
          "Overweight_Level_II",
          "Overweight_Level_II",
          "Overweight_Level_II",
          "Overweight_Level_II",
          "Overweight_Level_II",
          "Overweight_Level_II",
          "Overweight_Level_II",
          "Overweight_Level_II",
          "Overweight_Level_II",
          "Overweight_Level_II",
          "Overweight_Level_II",
          "Overweight_Level_II",
          "Overweight_Level_II",
          "Overweight_Level_II",
          "Overweight_Level_II",
          "Overweight_Level_II",
          "Overweight_Level_II",
          "Overweight_Level_II",
          "Overweight_Level_II",
          "Overweight_Level_II",
          "Overweight_Level_II",
          "Overweight_Level_II",
          "Overweight_Level_II",
          "Overweight_Level_II",
          "Overweight_Level_II",
          "Overweight_Level_II",
          "Overweight_Level_II",
          "Overweight_Level_II",
          "Overweight_Level_II",
          "Overweight_Level_II",
          "Overweight_Level_II",
          "Overweight_Level_II",
          "Overweight_Level_II",
          "Overweight_Level_II",
          "Overweight_Level_II",
          "Overweight_Level_II",
          "Overweight_Level_II",
          "Overweight_Level_II",
          "Overweight_Level_II",
          "Overweight_Level_II",
          "Overweight_Level_II",
          "Overweight_Level_II",
          "Overweight_Level_II",
          "Overweight_Level_II",
          "Overweight_Level_II",
          "Overweight_Level_II",
          "Overweight_Level_II",
          "Overweight_Level_II",
          "Overweight_Level_II",
          "Overweight_Level_II",
          "Overweight_Level_II",
          "Overweight_Level_II",
          "Overweight_Level_II",
          "Overweight_Level_II",
          "Overweight_Level_II",
          "Overweight_Level_II",
          "Overweight_Level_II",
          "Overweight_Level_II",
          "Overweight_Level_II",
          "Overweight_Level_II",
          "Overweight_Level_II",
          "Overweight_Level_II",
          "Overweight_Level_II",
          "Overweight_Level_II",
          "Overweight_Level_II",
          "Overweight_Level_II",
          "Overweight_Level_II",
          "Overweight_Level_II",
          "Overweight_Level_II",
          "Overweight_Level_II",
          "Overweight_Level_II",
          "Overweight_Level_II",
          "Overweight_Level_II",
          "Overweight_Level_II",
          "Overweight_Level_II",
          "Overweight_Level_II",
          "Overweight_Level_II",
          "Overweight_Level_II",
          "Overweight_Level_II",
          "Overweight_Level_II",
          "Overweight_Level_II",
          "Overweight_Level_II",
          "Overweight_Level_II",
          "Overweight_Level_II",
          "Overweight_Level_II",
          "Overweight_Level_II",
          "Overweight_Level_II",
          "Overweight_Level_II",
          "Overweight_Level_II",
          "Overweight_Level_II",
          "Overweight_Level_II",
          "Overweight_Level_II",
          "Overweight_Level_II",
          "Overweight_Level_II",
          "Overweight_Level_II",
          "Overweight_Level_II",
          "Overweight_Level_II",
          "Overweight_Level_II",
          "Overweight_Level_II",
          "Overweight_Level_II",
          "Overweight_Level_II",
          "Overweight_Level_II",
          "Overweight_Level_II",
          "Overweight_Level_II",
          "Overweight_Level_II",
          "Overweight_Level_II",
          "Overweight_Level_II",
          "Overweight_Level_II",
          "Overweight_Level_II",
          "Overweight_Level_II",
          "Overweight_Level_II",
          "Overweight_Level_II",
          "Overweight_Level_II",
          "Overweight_Level_II",
          "Overweight_Level_II",
          "Overweight_Level_II",
          "Overweight_Level_II",
          "Overweight_Level_II",
          "Overweight_Level_II",
          "Overweight_Level_II",
          "Overweight_Level_II",
          "Overweight_Level_II",
          "Obesity_Type_I",
          "Obesity_Type_I",
          "Obesity_Type_I",
          "Obesity_Type_I",
          "Obesity_Type_I",
          "Obesity_Type_I",
          "Obesity_Type_I",
          "Obesity_Type_I",
          "Obesity_Type_I",
          "Obesity_Type_I",
          "Obesity_Type_I",
          "Obesity_Type_I",
          "Obesity_Type_I",
          "Obesity_Type_I",
          "Obesity_Type_I",
          "Obesity_Type_I",
          "Obesity_Type_I",
          "Obesity_Type_I",
          "Obesity_Type_I",
          "Obesity_Type_I",
          "Obesity_Type_I",
          "Obesity_Type_I",
          "Obesity_Type_I",
          "Obesity_Type_I",
          "Obesity_Type_I",
          "Obesity_Type_I",
          "Obesity_Type_I",
          "Obesity_Type_I",
          "Obesity_Type_I",
          "Obesity_Type_I",
          "Obesity_Type_I",
          "Obesity_Type_I",
          "Obesity_Type_I",
          "Obesity_Type_I",
          "Obesity_Type_I",
          "Obesity_Type_I",
          "Obesity_Type_I",
          "Obesity_Type_I",
          "Obesity_Type_I",
          "Obesity_Type_I",
          "Obesity_Type_I",
          "Obesity_Type_I",
          "Obesity_Type_I",
          "Obesity_Type_I",
          "Obesity_Type_I",
          "Obesity_Type_I",
          "Obesity_Type_I",
          "Obesity_Type_I",
          "Obesity_Type_I",
          "Obesity_Type_I",
          "Obesity_Type_I",
          "Obesity_Type_I",
          "Obesity_Type_I",
          "Obesity_Type_I",
          "Obesity_Type_I",
          "Obesity_Type_I",
          "Obesity_Type_I",
          "Obesity_Type_I",
          "Obesity_Type_I",
          "Obesity_Type_I",
          "Obesity_Type_I",
          "Obesity_Type_I",
          "Obesity_Type_I",
          "Obesity_Type_I",
          "Obesity_Type_I",
          "Obesity_Type_I",
          "Obesity_Type_I",
          "Obesity_Type_I",
          "Obesity_Type_I",
          "Obesity_Type_I",
          "Obesity_Type_I",
          "Obesity_Type_I",
          "Obesity_Type_I",
          "Obesity_Type_I",
          "Obesity_Type_I",
          "Obesity_Type_I",
          "Obesity_Type_I",
          "Obesity_Type_I",
          "Obesity_Type_I",
          "Obesity_Type_I",
          "Obesity_Type_I",
          "Obesity_Type_I",
          "Obesity_Type_I",
          "Obesity_Type_I",
          "Obesity_Type_I",
          "Obesity_Type_I",
          "Obesity_Type_I",
          "Obesity_Type_I",
          "Obesity_Type_I",
          "Obesity_Type_I",
          "Obesity_Type_I",
          "Obesity_Type_I",
          "Obesity_Type_I",
          "Obesity_Type_I",
          "Obesity_Type_I",
          "Obesity_Type_I",
          "Obesity_Type_I",
          "Obesity_Type_I",
          "Obesity_Type_I",
          "Obesity_Type_I",
          "Obesity_Type_I",
          "Obesity_Type_I",
          "Obesity_Type_I",
          "Obesity_Type_I",
          "Obesity_Type_I",
          "Obesity_Type_I",
          "Obesity_Type_I",
          "Obesity_Type_I",
          "Obesity_Type_I",
          "Obesity_Type_I",
          "Obesity_Type_I",
          "Obesity_Type_I",
          "Obesity_Type_I",
          "Obesity_Type_I",
          "Obesity_Type_I",
          "Obesity_Type_I",
          "Obesity_Type_I",
          "Obesity_Type_I",
          "Obesity_Type_I",
          "Obesity_Type_I",
          "Obesity_Type_I",
          "Obesity_Type_I",
          "Obesity_Type_I",
          "Obesity_Type_I",
          "Obesity_Type_I",
          "Obesity_Type_I",
          "Obesity_Type_I",
          "Obesity_Type_I",
          "Obesity_Type_I",
          "Obesity_Type_I",
          "Obesity_Type_I",
          "Obesity_Type_I",
          "Obesity_Type_I",
          "Obesity_Type_I",
          "Obesity_Type_I",
          "Obesity_Type_I",
          "Obesity_Type_I",
          "Obesity_Type_I",
          "Obesity_Type_I",
          "Obesity_Type_I",
          "Obesity_Type_I",
          "Obesity_Type_I",
          "Obesity_Type_I",
          "Obesity_Type_I",
          "Obesity_Type_I",
          "Obesity_Type_I",
          "Obesity_Type_I",
          "Obesity_Type_I",
          "Obesity_Type_I",
          "Obesity_Type_I",
          "Obesity_Type_I",
          "Obesity_Type_I",
          "Obesity_Type_I",
          "Obesity_Type_I",
          "Obesity_Type_I",
          "Obesity_Type_I",
          "Obesity_Type_I",
          "Obesity_Type_I",
          "Obesity_Type_I",
          "Obesity_Type_I",
          "Obesity_Type_I",
          "Obesity_Type_I",
          "Obesity_Type_I",
          "Obesity_Type_I",
          "Obesity_Type_I",
          "Obesity_Type_I",
          "Obesity_Type_I",
          "Obesity_Type_I",
          "Obesity_Type_I",
          "Obesity_Type_I",
          "Obesity_Type_I",
          "Obesity_Type_I",
          "Obesity_Type_I",
          "Obesity_Type_I",
          "Obesity_Type_I",
          "Obesity_Type_I",
          "Obesity_Type_I",
          "Obesity_Type_I",
          "Obesity_Type_I",
          "Obesity_Type_I",
          "Obesity_Type_I",
          "Obesity_Type_I",
          "Obesity_Type_I",
          "Obesity_Type_I",
          "Obesity_Type_I",
          "Obesity_Type_I",
          "Obesity_Type_I",
          "Obesity_Type_I",
          "Obesity_Type_I",
          "Obesity_Type_I",
          "Obesity_Type_I",
          "Obesity_Type_I",
          "Obesity_Type_I",
          "Obesity_Type_I",
          "Obesity_Type_I",
          "Obesity_Type_I",
          "Obesity_Type_I",
          "Obesity_Type_I",
          "Obesity_Type_I",
          "Obesity_Type_I",
          "Obesity_Type_I",
          "Obesity_Type_I",
          "Obesity_Type_I",
          "Obesity_Type_I",
          "Obesity_Type_I",
          "Obesity_Type_I",
          "Obesity_Type_I",
          "Obesity_Type_I",
          "Obesity_Type_I",
          "Obesity_Type_I",
          "Obesity_Type_I",
          "Obesity_Type_I",
          "Obesity_Type_I",
          "Obesity_Type_I",
          "Obesity_Type_I",
          "Obesity_Type_I",
          "Obesity_Type_I",
          "Obesity_Type_I",
          "Obesity_Type_I",
          "Obesity_Type_I",
          "Obesity_Type_I",
          "Obesity_Type_I",
          "Obesity_Type_I",
          "Obesity_Type_I",
          "Obesity_Type_I",
          "Obesity_Type_I",
          "Obesity_Type_I",
          "Obesity_Type_I",
          "Obesity_Type_I",
          "Obesity_Type_I",
          "Obesity_Type_I",
          "Obesity_Type_I",
          "Obesity_Type_I",
          "Obesity_Type_I",
          "Obesity_Type_I",
          "Obesity_Type_I",
          "Obesity_Type_I",
          "Obesity_Type_I",
          "Obesity_Type_I",
          "Obesity_Type_I",
          "Obesity_Type_I",
          "Obesity_Type_I",
          "Obesity_Type_I",
          "Obesity_Type_I",
          "Obesity_Type_I",
          "Obesity_Type_I",
          "Obesity_Type_I",
          "Obesity_Type_I",
          "Obesity_Type_I",
          "Obesity_Type_I",
          "Obesity_Type_I",
          "Obesity_Type_I",
          "Obesity_Type_I",
          "Obesity_Type_I",
          "Obesity_Type_I",
          "Obesity_Type_I",
          "Obesity_Type_I",
          "Obesity_Type_I",
          "Obesity_Type_I",
          "Obesity_Type_I",
          "Obesity_Type_I",
          "Obesity_Type_I",
          "Obesity_Type_I",
          "Obesity_Type_I",
          "Obesity_Type_I",
          "Obesity_Type_I",
          "Obesity_Type_I",
          "Obesity_Type_I",
          "Obesity_Type_I",
          "Obesity_Type_I",
          "Obesity_Type_I",
          "Obesity_Type_I",
          "Obesity_Type_I",
          "Obesity_Type_I",
          "Obesity_Type_I",
          "Obesity_Type_I",
          "Obesity_Type_I",
          "Obesity_Type_I",
          "Obesity_Type_I",
          "Obesity_Type_I",
          "Obesity_Type_I",
          "Obesity_Type_I",
          "Obesity_Type_I",
          "Obesity_Type_I",
          "Obesity_Type_I",
          "Obesity_Type_I",
          "Obesity_Type_I",
          "Obesity_Type_I",
          "Obesity_Type_I",
          "Obesity_Type_I",
          "Obesity_Type_I",
          "Obesity_Type_I",
          "Obesity_Type_I",
          "Obesity_Type_I",
          "Obesity_Type_I",
          "Obesity_Type_I",
          "Obesity_Type_I",
          "Obesity_Type_I",
          "Obesity_Type_I",
          "Obesity_Type_I",
          "Obesity_Type_I",
          "Obesity_Type_I",
          "Obesity_Type_I",
          "Obesity_Type_I",
          "Obesity_Type_II",
          "Obesity_Type_II",
          "Obesity_Type_II",
          "Obesity_Type_II",
          "Obesity_Type_II",
          "Obesity_Type_II",
          "Obesity_Type_II",
          "Obesity_Type_II",
          "Obesity_Type_II",
          "Obesity_Type_II",
          "Obesity_Type_II",
          "Obesity_Type_II",
          "Obesity_Type_II",
          "Obesity_Type_II",
          "Obesity_Type_II",
          "Obesity_Type_II",
          "Obesity_Type_II",
          "Obesity_Type_II",
          "Obesity_Type_II",
          "Obesity_Type_II",
          "Obesity_Type_II",
          "Obesity_Type_II",
          "Obesity_Type_II",
          "Obesity_Type_II",
          "Obesity_Type_II",
          "Obesity_Type_II",
          "Obesity_Type_II",
          "Obesity_Type_II",
          "Obesity_Type_II",
          "Obesity_Type_II",
          "Obesity_Type_II",
          "Obesity_Type_II",
          "Obesity_Type_II",
          "Obesity_Type_II",
          "Obesity_Type_II",
          "Obesity_Type_II",
          "Obesity_Type_II",
          "Obesity_Type_II",
          "Obesity_Type_II",
          "Obesity_Type_II",
          "Obesity_Type_II",
          "Obesity_Type_II",
          "Obesity_Type_II",
          "Obesity_Type_II",
          "Obesity_Type_II",
          "Obesity_Type_II",
          "Obesity_Type_II",
          "Obesity_Type_II",
          "Obesity_Type_II",
          "Obesity_Type_II",
          "Obesity_Type_II",
          "Obesity_Type_II",
          "Obesity_Type_II",
          "Obesity_Type_II",
          "Obesity_Type_II",
          "Obesity_Type_II",
          "Obesity_Type_II",
          "Obesity_Type_II",
          "Obesity_Type_II",
          "Obesity_Type_II",
          "Obesity_Type_II",
          "Obesity_Type_II",
          "Obesity_Type_II",
          "Obesity_Type_II",
          "Obesity_Type_II",
          "Obesity_Type_II",
          "Obesity_Type_II",
          "Obesity_Type_II",
          "Obesity_Type_II",
          "Obesity_Type_II",
          "Obesity_Type_II",
          "Obesity_Type_II",
          "Obesity_Type_II",
          "Obesity_Type_II",
          "Obesity_Type_II",
          "Obesity_Type_II",
          "Obesity_Type_II",
          "Obesity_Type_II",
          "Obesity_Type_II",
          "Obesity_Type_II",
          "Obesity_Type_II",
          "Obesity_Type_II",
          "Obesity_Type_II",
          "Obesity_Type_II",
          "Obesity_Type_II",
          "Obesity_Type_II",
          "Obesity_Type_II",
          "Obesity_Type_II",
          "Obesity_Type_II",
          "Obesity_Type_II",
          "Obesity_Type_II",
          "Obesity_Type_II",
          "Obesity_Type_II",
          "Obesity_Type_II",
          "Obesity_Type_II",
          "Obesity_Type_II",
          "Obesity_Type_II",
          "Obesity_Type_II",
          "Obesity_Type_II",
          "Obesity_Type_II",
          "Obesity_Type_II",
          "Obesity_Type_II",
          "Obesity_Type_II",
          "Obesity_Type_II",
          "Obesity_Type_II",
          "Obesity_Type_II",
          "Obesity_Type_II",
          "Obesity_Type_II",
          "Obesity_Type_II",
          "Obesity_Type_II",
          "Obesity_Type_II",
          "Obesity_Type_II",
          "Obesity_Type_II",
          "Obesity_Type_II",
          "Obesity_Type_II",
          "Obesity_Type_II",
          "Obesity_Type_II",
          "Obesity_Type_II",
          "Obesity_Type_II",
          "Obesity_Type_II",
          "Obesity_Type_II",
          "Obesity_Type_II",
          "Obesity_Type_II",
          "Obesity_Type_II",
          "Obesity_Type_II",
          "Obesity_Type_II",
          "Obesity_Type_II",
          "Obesity_Type_II",
          "Obesity_Type_II",
          "Obesity_Type_II",
          "Obesity_Type_II",
          "Obesity_Type_II",
          "Obesity_Type_II",
          "Obesity_Type_II",
          "Obesity_Type_II",
          "Obesity_Type_II",
          "Obesity_Type_II",
          "Obesity_Type_II",
          "Obesity_Type_II",
          "Obesity_Type_II",
          "Obesity_Type_II",
          "Obesity_Type_II",
          "Obesity_Type_II",
          "Obesity_Type_II",
          "Obesity_Type_II",
          "Obesity_Type_II",
          "Obesity_Type_II",
          "Obesity_Type_II",
          "Obesity_Type_II",
          "Obesity_Type_II",
          "Obesity_Type_II",
          "Obesity_Type_II",
          "Obesity_Type_II",
          "Obesity_Type_II",
          "Obesity_Type_II",
          "Obesity_Type_II",
          "Obesity_Type_II",
          "Obesity_Type_II",
          "Obesity_Type_II",
          "Obesity_Type_II",
          "Obesity_Type_II",
          "Obesity_Type_II",
          "Obesity_Type_II",
          "Obesity_Type_II",
          "Obesity_Type_II",
          "Obesity_Type_II",
          "Obesity_Type_II",
          "Obesity_Type_II",
          "Obesity_Type_II",
          "Obesity_Type_II",
          "Obesity_Type_II",
          "Obesity_Type_II",
          "Obesity_Type_II",
          "Obesity_Type_II",
          "Obesity_Type_II",
          "Obesity_Type_II",
          "Obesity_Type_II",
          "Obesity_Type_II",
          "Obesity_Type_II",
          "Obesity_Type_II",
          "Obesity_Type_II",
          "Obesity_Type_II",
          "Obesity_Type_II",
          "Obesity_Type_II",
          "Obesity_Type_II",
          "Obesity_Type_II",
          "Obesity_Type_II",
          "Obesity_Type_II",
          "Obesity_Type_II",
          "Obesity_Type_II",
          "Obesity_Type_II",
          "Obesity_Type_II",
          "Obesity_Type_II",
          "Obesity_Type_II",
          "Obesity_Type_II",
          "Obesity_Type_II",
          "Obesity_Type_II",
          "Obesity_Type_II",
          "Obesity_Type_II",
          "Obesity_Type_II",
          "Obesity_Type_II",
          "Obesity_Type_II",
          "Obesity_Type_II",
          "Obesity_Type_II",
          "Obesity_Type_II",
          "Obesity_Type_II",
          "Obesity_Type_II",
          "Obesity_Type_II",
          "Obesity_Type_II",
          "Obesity_Type_II",
          "Obesity_Type_II",
          "Obesity_Type_II",
          "Obesity_Type_II",
          "Obesity_Type_II",
          "Obesity_Type_II",
          "Obesity_Type_II",
          "Obesity_Type_II",
          "Obesity_Type_II",
          "Obesity_Type_II",
          "Obesity_Type_II",
          "Obesity_Type_II",
          "Obesity_Type_II",
          "Obesity_Type_II",
          "Obesity_Type_II",
          "Obesity_Type_II",
          "Obesity_Type_II",
          "Obesity_Type_II",
          "Obesity_Type_II",
          "Obesity_Type_II",
          "Obesity_Type_II",
          "Obesity_Type_II",
          "Obesity_Type_II",
          "Obesity_Type_II",
          "Obesity_Type_II",
          "Obesity_Type_II",
          "Obesity_Type_II",
          "Obesity_Type_II",
          "Obesity_Type_II",
          "Obesity_Type_II",
          "Obesity_Type_II",
          "Obesity_Type_II",
          "Obesity_Type_II",
          "Obesity_Type_II",
          "Obesity_Type_II",
          "Obesity_Type_II",
          "Obesity_Type_II",
          "Obesity_Type_II",
          "Obesity_Type_II",
          "Obesity_Type_II",
          "Obesity_Type_II",
          "Obesity_Type_II",
          "Obesity_Type_II",
          "Obesity_Type_II",
          "Obesity_Type_II",
          "Obesity_Type_II",
          "Obesity_Type_II",
          "Obesity_Type_II",
          "Obesity_Type_II",
          "Obesity_Type_II",
          "Obesity_Type_II",
          "Obesity_Type_II",
          "Obesity_Type_II",
          "Obesity_Type_II",
          "Obesity_Type_II",
          "Obesity_Type_II",
          "Obesity_Type_II",
          "Obesity_Type_II",
          "Obesity_Type_II",
          "Obesity_Type_II",
          "Obesity_Type_II",
          "Obesity_Type_II",
          "Obesity_Type_II",
          "Obesity_Type_II",
          "Obesity_Type_II",
          "Obesity_Type_II",
          "Obesity_Type_II",
          "Obesity_Type_II",
          "Obesity_Type_II",
          "Obesity_Type_II",
          "Obesity_Type_II",
          "Obesity_Type_II",
          "Obesity_Type_II",
          "Obesity_Type_II",
          "Obesity_Type_II",
          "Obesity_Type_II",
          "Obesity_Type_II",
          "Obesity_Type_III",
          "Obesity_Type_III",
          "Obesity_Type_III",
          "Obesity_Type_III",
          "Obesity_Type_III",
          "Obesity_Type_III",
          "Obesity_Type_III",
          "Obesity_Type_III",
          "Obesity_Type_III",
          "Obesity_Type_III",
          "Obesity_Type_III",
          "Obesity_Type_III",
          "Obesity_Type_III",
          "Obesity_Type_III",
          "Obesity_Type_III",
          "Obesity_Type_III",
          "Obesity_Type_III",
          "Obesity_Type_III",
          "Obesity_Type_III",
          "Obesity_Type_III",
          "Obesity_Type_III",
          "Obesity_Type_III",
          "Obesity_Type_III",
          "Obesity_Type_III",
          "Obesity_Type_III",
          "Obesity_Type_III",
          "Obesity_Type_III",
          "Obesity_Type_III",
          "Obesity_Type_III",
          "Obesity_Type_III",
          "Obesity_Type_III",
          "Obesity_Type_III",
          "Obesity_Type_III",
          "Obesity_Type_III",
          "Obesity_Type_III",
          "Obesity_Type_III",
          "Obesity_Type_III",
          "Obesity_Type_III",
          "Obesity_Type_III",
          "Obesity_Type_III",
          "Obesity_Type_III",
          "Obesity_Type_III",
          "Obesity_Type_III",
          "Obesity_Type_III",
          "Obesity_Type_III",
          "Obesity_Type_III",
          "Obesity_Type_III",
          "Obesity_Type_III",
          "Obesity_Type_III",
          "Obesity_Type_III",
          "Obesity_Type_III",
          "Obesity_Type_III",
          "Obesity_Type_III",
          "Obesity_Type_III",
          "Obesity_Type_III",
          "Obesity_Type_III",
          "Obesity_Type_III",
          "Obesity_Type_III",
          "Obesity_Type_III",
          "Obesity_Type_III",
          "Obesity_Type_III",
          "Obesity_Type_III",
          "Obesity_Type_III",
          "Obesity_Type_III",
          "Obesity_Type_III",
          "Obesity_Type_III",
          "Obesity_Type_III",
          "Obesity_Type_III",
          "Obesity_Type_III",
          "Obesity_Type_III",
          "Obesity_Type_III",
          "Obesity_Type_III",
          "Obesity_Type_III",
          "Obesity_Type_III",
          "Obesity_Type_III",
          "Obesity_Type_III",
          "Obesity_Type_III",
          "Obesity_Type_III",
          "Obesity_Type_III",
          "Obesity_Type_III",
          "Obesity_Type_III",
          "Obesity_Type_III",
          "Obesity_Type_III",
          "Obesity_Type_III",
          "Obesity_Type_III",
          "Obesity_Type_III",
          "Obesity_Type_III",
          "Obesity_Type_III",
          "Obesity_Type_III",
          "Obesity_Type_III",
          "Obesity_Type_III",
          "Obesity_Type_III",
          "Obesity_Type_III",
          "Obesity_Type_III",
          "Obesity_Type_III",
          "Obesity_Type_III",
          "Obesity_Type_III",
          "Obesity_Type_III",
          "Obesity_Type_III",
          "Obesity_Type_III",
          "Obesity_Type_III",
          "Obesity_Type_III",
          "Obesity_Type_III",
          "Obesity_Type_III",
          "Obesity_Type_III",
          "Obesity_Type_III",
          "Obesity_Type_III",
          "Obesity_Type_III",
          "Obesity_Type_III",
          "Obesity_Type_III",
          "Obesity_Type_III",
          "Obesity_Type_III",
          "Obesity_Type_III",
          "Obesity_Type_III",
          "Obesity_Type_III",
          "Obesity_Type_III",
          "Obesity_Type_III",
          "Obesity_Type_III",
          "Obesity_Type_III",
          "Obesity_Type_III",
          "Obesity_Type_III",
          "Obesity_Type_III",
          "Obesity_Type_III",
          "Obesity_Type_III",
          "Obesity_Type_III",
          "Obesity_Type_III",
          "Obesity_Type_III",
          "Obesity_Type_III",
          "Obesity_Type_III",
          "Obesity_Type_III",
          "Obesity_Type_III",
          "Obesity_Type_III",
          "Obesity_Type_III",
          "Obesity_Type_III",
          "Obesity_Type_III",
          "Obesity_Type_III",
          "Obesity_Type_III",
          "Obesity_Type_III",
          "Obesity_Type_III",
          "Obesity_Type_III",
          "Obesity_Type_III",
          "Obesity_Type_III",
          "Obesity_Type_III",
          "Obesity_Type_III",
          "Obesity_Type_III",
          "Obesity_Type_III",
          "Obesity_Type_III",
          "Obesity_Type_III",
          "Obesity_Type_III",
          "Obesity_Type_III",
          "Obesity_Type_III",
          "Obesity_Type_III",
          "Obesity_Type_III",
          "Obesity_Type_III",
          "Obesity_Type_III",
          "Obesity_Type_III",
          "Obesity_Type_III",
          "Obesity_Type_III",
          "Obesity_Type_III",
          "Obesity_Type_III",
          "Obesity_Type_III",
          "Obesity_Type_III",
          "Obesity_Type_III",
          "Obesity_Type_III",
          "Obesity_Type_III",
          "Obesity_Type_III",
          "Obesity_Type_III",
          "Obesity_Type_III",
          "Obesity_Type_III",
          "Obesity_Type_III",
          "Obesity_Type_III",
          "Obesity_Type_III",
          "Obesity_Type_III",
          "Obesity_Type_III",
          "Obesity_Type_III",
          "Obesity_Type_III",
          "Obesity_Type_III",
          "Obesity_Type_III",
          "Obesity_Type_III",
          "Obesity_Type_III",
          "Obesity_Type_III",
          "Obesity_Type_III",
          "Obesity_Type_III",
          "Obesity_Type_III",
          "Obesity_Type_III",
          "Obesity_Type_III",
          "Obesity_Type_III",
          "Obesity_Type_III",
          "Obesity_Type_III",
          "Obesity_Type_III",
          "Obesity_Type_III",
          "Obesity_Type_III",
          "Obesity_Type_III",
          "Obesity_Type_III",
          "Obesity_Type_III",
          "Obesity_Type_III",
          "Obesity_Type_III",
          "Obesity_Type_III",
          "Obesity_Type_III",
          "Obesity_Type_III",
          "Obesity_Type_III",
          "Obesity_Type_III",
          "Obesity_Type_III",
          "Obesity_Type_III",
          "Obesity_Type_III",
          "Obesity_Type_III",
          "Obesity_Type_III",
          "Obesity_Type_III",
          "Obesity_Type_III",
          "Obesity_Type_III",
          "Obesity_Type_III",
          "Obesity_Type_III",
          "Obesity_Type_III",
          "Obesity_Type_III",
          "Obesity_Type_III",
          "Obesity_Type_III",
          "Obesity_Type_III",
          "Obesity_Type_III",
          "Obesity_Type_III",
          "Obesity_Type_III",
          "Obesity_Type_III",
          "Obesity_Type_III",
          "Obesity_Type_III",
          "Obesity_Type_III",
          "Obesity_Type_III",
          "Obesity_Type_III",
          "Obesity_Type_III",
          "Obesity_Type_III",
          "Obesity_Type_III",
          "Obesity_Type_III",
          "Obesity_Type_III",
          "Obesity_Type_III",
          "Obesity_Type_III",
          "Obesity_Type_III",
          "Obesity_Type_III",
          "Obesity_Type_III",
          "Obesity_Type_III",
          "Obesity_Type_III",
          "Obesity_Type_III",
          "Obesity_Type_III",
          "Obesity_Type_III",
          "Obesity_Type_III",
          "Obesity_Type_III",
          "Obesity_Type_III",
          "Obesity_Type_III",
          "Obesity_Type_III",
          "Obesity_Type_III",
          "Obesity_Type_III",
          "Obesity_Type_III",
          "Obesity_Type_III",
          "Obesity_Type_III",
          "Obesity_Type_III",
          "Obesity_Type_III",
          "Obesity_Type_III",
          "Obesity_Type_III",
          "Obesity_Type_III",
          "Obesity_Type_III",
          "Obesity_Type_III",
          "Obesity_Type_III",
          "Obesity_Type_III",
          "Obesity_Type_III",
          "Obesity_Type_III",
          "Obesity_Type_III",
          "Obesity_Type_III",
          "Obesity_Type_III",
          "Obesity_Type_III",
          "Obesity_Type_III",
          "Obesity_Type_III",
          "Obesity_Type_III",
          "Obesity_Type_III",
          "Obesity_Type_III",
          "Obesity_Type_III",
          "Obesity_Type_III",
          "Obesity_Type_III",
          "Obesity_Type_III",
          "Obesity_Type_III",
          "Obesity_Type_III",
          "Obesity_Type_III",
          "Obesity_Type_III",
          "Obesity_Type_III",
          "Obesity_Type_III",
          "Obesity_Type_III",
          "Obesity_Type_III",
          "Obesity_Type_III",
          "Obesity_Type_III",
          "Obesity_Type_III",
          "Obesity_Type_III",
          "Obesity_Type_III",
          "Obesity_Type_III",
          "Obesity_Type_III",
          "Obesity_Type_III",
          "Obesity_Type_III",
          "Obesity_Type_III",
          "Obesity_Type_III",
          "Obesity_Type_III",
          "Obesity_Type_III",
          "Obesity_Type_III",
          "Obesity_Type_III",
          "Obesity_Type_III",
          "Obesity_Type_III",
          "Obesity_Type_III",
          "Obesity_Type_III",
          "Obesity_Type_III",
          "Obesity_Type_III",
          "Obesity_Type_III",
          "Obesity_Type_III",
          "Obesity_Type_III",
          "Obesity_Type_III",
          "Obesity_Type_III",
          "Obesity_Type_III",
          "Obesity_Type_III",
          "Obesity_Type_III"
         ],
         "x0": " ",
         "xaxis": "x",
         "y": {
          "bdata": "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",
          "dtype": "f8"
         },
         "y0": " ",
         "yaxis": "y"
        }
       ],
       "layout": {
        "boxmode": "group",
        "legend": {
         "tracegroupgap": 0
        },
        "template": {
         "data": {
          "bar": [
           {
            "error_x": {
             "color": "#2a3f5f"
            },
            "error_y": {
             "color": "#2a3f5f"
            },
            "marker": {
             "line": {
              "color": "#E5ECF6",
              "width": 0.5
             },
             "pattern": {
              "fillmode": "overlay",
              "size": 10,
              "solidity": 0.2
             }
            },
            "type": "bar"
           }
          ],
          "barpolar": [
           {
            "marker": {
             "line": {
              "color": "#E5ECF6",
              "width": 0.5
             },
             "pattern": {
              "fillmode": "overlay",
              "size": 10,
              "solidity": 0.2
             }
            },
            "type": "barpolar"
           }
          ],
          "carpet": [
           {
            "aaxis": {
             "endlinecolor": "#2a3f5f",
             "gridcolor": "white",
             "linecolor": "white",
             "minorgridcolor": "white",
             "startlinecolor": "#2a3f5f"
            },
            "baxis": {
             "endlinecolor": "#2a3f5f",
             "gridcolor": "white",
             "linecolor": "white",
             "minorgridcolor": "white",
             "startlinecolor": "#2a3f5f"
            },
            "type": "carpet"
           }
          ],
          "choropleth": [
           {
            "colorbar": {
             "outlinewidth": 0,
             "ticks": ""
            },
            "type": "choropleth"
           }
          ],
          "contour": [
           {
            "colorbar": {
             "outlinewidth": 0,
             "ticks": ""
            },
            "colorscale": [
             [
              0,
              "#0d0887"
             ],
             [
              0.1111111111111111,
              "#46039f"
             ],
             [
              0.2222222222222222,
              "#7201a8"
             ],
             [
              0.3333333333333333,
              "#9c179e"
             ],
             [
              0.4444444444444444,
              "#bd3786"
             ],
             [
              0.5555555555555556,
              "#d8576b"
             ],
             [
              0.6666666666666666,
              "#ed7953"
             ],
             [
              0.7777777777777778,
              "#fb9f3a"
             ],
             [
              0.8888888888888888,
              "#fdca26"
             ],
             [
              1,
              "#f0f921"
             ]
            ],
            "type": "contour"
           }
          ],
          "contourcarpet": [
           {
            "colorbar": {
             "outlinewidth": 0,
             "ticks": ""
            },
            "type": "contourcarpet"
           }
          ],
          "heatmap": [
           {
            "colorbar": {
             "outlinewidth": 0,
             "ticks": ""
            },
            "colorscale": [
             [
              0,
              "#0d0887"
             ],
             [
              0.1111111111111111,
              "#46039f"
             ],
             [
              0.2222222222222222,
              "#7201a8"
             ],
             [
              0.3333333333333333,
              "#9c179e"
             ],
             [
              0.4444444444444444,
              "#bd3786"
             ],
             [
              0.5555555555555556,
              "#d8576b"
             ],
             [
              0.6666666666666666,
              "#ed7953"
             ],
             [
              0.7777777777777778,
              "#fb9f3a"
             ],
             [
              0.8888888888888888,
              "#fdca26"
             ],
             [
              1,
              "#f0f921"
             ]
            ],
            "type": "heatmap"
           }
          ],
          "histogram": [
           {
            "marker": {
             "pattern": {
              "fillmode": "overlay",
              "size": 10,
              "solidity": 0.2
             }
            },
            "type": "histogram"
           }
          ],
          "histogram2d": [
           {
            "colorbar": {
             "outlinewidth": 0,
             "ticks": ""
            },
            "colorscale": [
             [
              0,
              "#0d0887"
             ],
             [
              0.1111111111111111,
              "#46039f"
             ],
             [
              0.2222222222222222,
              "#7201a8"
             ],
             [
              0.3333333333333333,
              "#9c179e"
             ],
             [
              0.4444444444444444,
              "#bd3786"
             ],
             [
              0.5555555555555556,
              "#d8576b"
             ],
             [
              0.6666666666666666,
              "#ed7953"
             ],
             [
              0.7777777777777778,
              "#fb9f3a"
             ],
             [
              0.8888888888888888,
              "#fdca26"
             ],
             [
              1,
              "#f0f921"
             ]
            ],
            "type": "histogram2d"
           }
          ],
          "histogram2dcontour": [
           {
            "colorbar": {
             "outlinewidth": 0,
             "ticks": ""
            },
            "colorscale": [
             [
              0,
              "#0d0887"
             ],
             [
              0.1111111111111111,
              "#46039f"
             ],
             [
              0.2222222222222222,
              "#7201a8"
             ],
             [
              0.3333333333333333,
              "#9c179e"
             ],
             [
              0.4444444444444444,
              "#bd3786"
             ],
             [
              0.5555555555555556,
              "#d8576b"
             ],
             [
              0.6666666666666666,
              "#ed7953"
             ],
             [
              0.7777777777777778,
              "#fb9f3a"
             ],
             [
              0.8888888888888888,
              "#fdca26"
             ],
             [
              1,
              "#f0f921"
             ]
            ],
            "type": "histogram2dcontour"
           }
          ],
          "mesh3d": [
           {
            "colorbar": {
             "outlinewidth": 0,
             "ticks": ""
            },
            "type": "mesh3d"
           }
          ],
          "parcoords": [
           {
            "line": {
             "colorbar": {
              "outlinewidth": 0,
              "ticks": ""
             }
            },
            "type": "parcoords"
           }
          ],
          "pie": [
           {
            "automargin": true,
            "type": "pie"
           }
          ],
          "scatter": [
           {
            "fillpattern": {
             "fillmode": "overlay",
             "size": 10,
             "solidity": 0.2
            },
            "type": "scatter"
           }
          ],
          "scatter3d": [
           {
            "line": {
             "colorbar": {
              "outlinewidth": 0,
              "ticks": ""
             }
            },
            "marker": {
             "colorbar": {
              "outlinewidth": 0,
              "ticks": ""
             }
            },
            "type": "scatter3d"
           }
          ],
          "scattercarpet": [
           {
            "marker": {
             "colorbar": {
              "outlinewidth": 0,
              "ticks": ""
             }
            },
            "type": "scattercarpet"
           }
          ],
          "scattergeo": [
           {
            "marker": {
             "colorbar": {
              "outlinewidth": 0,
              "ticks": ""
             }
            },
            "type": "scattergeo"
           }
          ],
          "scattergl": [
           {
            "marker": {
             "colorbar": {
              "outlinewidth": 0,
              "ticks": ""
             }
            },
            "type": "scattergl"
           }
          ],
          "scattermap": [
           {
            "marker": {
             "colorbar": {
              "outlinewidth": 0,
              "ticks": ""
             }
            },
            "type": "scattermap"
           }
          ],
          "scattermapbox": [
           {
            "marker": {
             "colorbar": {
              "outlinewidth": 0,
              "ticks": ""
             }
            },
            "type": "scattermapbox"
           }
          ],
          "scatterpolar": [
           {
            "marker": {
             "colorbar": {
              "outlinewidth": 0,
              "ticks": ""
             }
            },
            "type": "scatterpolar"
           }
          ],
          "scatterpolargl": [
           {
            "marker": {
             "colorbar": {
              "outlinewidth": 0,
              "ticks": ""
             }
            },
            "type": "scatterpolargl"
           }
          ],
          "scatterternary": [
           {
            "marker": {
             "colorbar": {
              "outlinewidth": 0,
              "ticks": ""
             }
            },
            "type": "scatterternary"
           }
          ],
          "surface": [
           {
            "colorbar": {
             "outlinewidth": 0,
             "ticks": ""
            },
            "colorscale": [
             [
              0,
              "#0d0887"
             ],
             [
              0.1111111111111111,
              "#46039f"
             ],
             [
              0.2222222222222222,
              "#7201a8"
             ],
             [
              0.3333333333333333,
              "#9c179e"
             ],
             [
              0.4444444444444444,
              "#bd3786"
             ],
             [
              0.5555555555555556,
              "#d8576b"
             ],
             [
              0.6666666666666666,
              "#ed7953"
             ],
             [
              0.7777777777777778,
              "#fb9f3a"
             ],
             [
              0.8888888888888888,
              "#fdca26"
             ],
             [
              1,
              "#f0f921"
             ]
            ],
            "type": "surface"
           }
          ],
          "table": [
           {
            "cells": {
             "fill": {
              "color": "#EBF0F8"
             },
             "line": {
              "color": "white"
             }
            },
            "header": {
             "fill": {
              "color": "#C8D4E3"
             },
             "line": {
              "color": "white"
             }
            },
            "type": "table"
           }
          ]
         },
         "layout": {
          "annotationdefaults": {
           "arrowcolor": "#2a3f5f",
           "arrowhead": 0,
           "arrowwidth": 1
          },
          "autotypenumbers": "strict",
          "coloraxis": {
           "colorbar": {
            "outlinewidth": 0,
            "ticks": ""
           }
          },
          "colorscale": {
           "diverging": [
            [
             0,
             "#8e0152"
            ],
            [
             0.1,
             "#c51b7d"
            ],
            [
             0.2,
             "#de77ae"
            ],
            [
             0.3,
             "#f1b6da"
            ],
            [
             0.4,
             "#fde0ef"
            ],
            [
             0.5,
             "#f7f7f7"
            ],
            [
             0.6,
             "#e6f5d0"
            ],
            [
             0.7,
             "#b8e186"
            ],
            [
             0.8,
             "#7fbc41"
            ],
            [
             0.9,
             "#4d9221"
            ],
            [
             1,
             "#276419"
            ]
           ],
           "sequential": [
            [
             0,
             "#0d0887"
            ],
            [
             0.1111111111111111,
             "#46039f"
            ],
            [
             0.2222222222222222,
             "#7201a8"
            ],
            [
             0.3333333333333333,
             "#9c179e"
            ],
            [
             0.4444444444444444,
             "#bd3786"
            ],
            [
             0.5555555555555556,
             "#d8576b"
            ],
            [
             0.6666666666666666,
             "#ed7953"
            ],
            [
             0.7777777777777778,
             "#fb9f3a"
            ],
            [
             0.8888888888888888,
             "#fdca26"
            ],
            [
             1,
             "#f0f921"
            ]
           ],
           "sequentialminus": [
            [
             0,
             "#0d0887"
            ],
            [
             0.1111111111111111,
             "#46039f"
            ],
            [
             0.2222222222222222,
             "#7201a8"
            ],
            [
             0.3333333333333333,
             "#9c179e"
            ],
            [
             0.4444444444444444,
             "#bd3786"
            ],
            [
             0.5555555555555556,
             "#d8576b"
            ],
            [
             0.6666666666666666,
             "#ed7953"
            ],
            [
             0.7777777777777778,
             "#fb9f3a"
            ],
            [
             0.8888888888888888,
             "#fdca26"
            ],
            [
             1,
             "#f0f921"
            ]
           ]
          },
          "colorway": [
           "#636efa",
           "#EF553B",
           "#00cc96",
           "#ab63fa",
           "#FFA15A",
           "#19d3f3",
           "#FF6692",
           "#B6E880",
           "#FF97FF",
           "#FECB52"
          ],
          "font": {
           "color": "#2a3f5f"
          },
          "geo": {
           "bgcolor": "white",
           "lakecolor": "white",
           "landcolor": "#E5ECF6",
           "showlakes": true,
           "showland": true,
           "subunitcolor": "white"
          },
          "hoverlabel": {
           "align": "left"
          },
          "hovermode": "closest",
          "mapbox": {
           "style": "light"
          },
          "paper_bgcolor": "white",
          "plot_bgcolor": "#E5ECF6",
          "polar": {
           "angularaxis": {
            "gridcolor": "white",
            "linecolor": "white",
            "ticks": ""
           },
           "bgcolor": "#E5ECF6",
           "radialaxis": {
            "gridcolor": "white",
            "linecolor": "white",
            "ticks": ""
           }
          },
          "scene": {
           "xaxis": {
            "backgroundcolor": "#E5ECF6",
            "gridcolor": "white",
            "gridwidth": 2,
            "linecolor": "white",
            "showbackground": true,
            "ticks": "",
            "zerolinecolor": "white"
           },
           "yaxis": {
            "backgroundcolor": "#E5ECF6",
            "gridcolor": "white",
            "gridwidth": 2,
            "linecolor": "white",
            "showbackground": true,
            "ticks": "",
            "zerolinecolor": "white"
           },
           "zaxis": {
            "backgroundcolor": "#E5ECF6",
            "gridcolor": "white",
            "gridwidth": 2,
            "linecolor": "white",
            "showbackground": true,
            "ticks": "",
            "zerolinecolor": "white"
           }
          },
          "shapedefaults": {
           "line": {
            "color": "#2a3f5f"
           }
          },
          "ternary": {
           "aaxis": {
            "gridcolor": "white",
            "linecolor": "white",
            "ticks": ""
           },
           "baxis": {
            "gridcolor": "white",
            "linecolor": "white",
            "ticks": ""
           },
           "bgcolor": "#E5ECF6",
           "caxis": {
            "gridcolor": "white",
            "linecolor": "white",
            "ticks": ""
           }
          },
          "title": {
           "x": 0.05
          },
          "xaxis": {
           "automargin": true,
           "gridcolor": "white",
           "linecolor": "white",
           "ticks": "",
           "title": {
            "standoff": 15
           },
           "zerolinecolor": "white",
           "zerolinewidth": 2
          },
          "yaxis": {
           "automargin": true,
           "gridcolor": "white",
           "linecolor": "white",
           "ticks": "",
           "title": {
            "standoff": 15
           },
           "zerolinecolor": "white",
           "zerolinewidth": 2
          }
         }
        },
        "title": {
         "text": "Weight Distribution by Obesity Category"
        },
        "xaxis": {
         "anchor": "y",
         "categoryarray": [
          "Obesity_Type_III",
          "Obesity_Type_II",
          "Obesity_Type_I",
          "Overweight_Level_II",
          "Overweight_Level_I",
          "Normal_Weight",
          "Insufficient_Weight"
         ],
         "categoryorder": "array",
         "domain": [
          0,
          1
         ],
         "title": {
          "text": "Obesity Category"
         }
        },
        "yaxis": {
         "anchor": "x",
         "domain": [
          0,
          1
         ],
         "title": {
          "text": "Weight (kg)"
         }
        }
       }
      }
     },
     "metadata": {},
     "output_type": "display_data"
    }
   ],
   "source": [
    "# make a box plot of weight by obesity category\n",
    "fig = px.box(\n",
    "    data_frame=df,\n",
    "    x='NObeyesdad',\n",
    "    y='Weight',\n",
    "    title='Weight Distribution by Obesity Category',\n",
    "    labels={'NObeyesdad': 'Obesity Category', 'Weight': 'Weight (kg)'},\n",
    "    category_orders={\"NObeyesdad\": ['Obesity_Type_III', 'Obesity_Type_II', 'Obesity_Type_I', 'Overweight_Level_II', 'Overweight_Level_I', 'Normal_Weight', 'Insufficient_Weight']}\n",
    ")\n",
    "\n",
    "fig.show()\n"
   ]
  },
  {
   "cell_type": "markdown",
   "metadata": {},
   "source": [
    "The weight distribution plot shows a clear trend: individuals in higher obesity categories have higher weight, with wider variability and more outliers. Those in the Normal and Insufficient Weight categories cluster tightly around lower weights."
   ]
  },
  {
   "cell_type": "code",
   "execution_count": 6,
   "metadata": {},
   "outputs": [
    {
     "data": {
      "application/vnd.plotly.v1+json": {
       "config": {
        "plotlyServerURL": "https://plot.ly"
       },
       "data": [
        {
         "alignmentgroup": "True",
         "hovertemplate": "Obesity Category=%{x}<br>Height (meters)=%{y}<extra></extra>",
         "legendgroup": "",
         "marker": {
          "color": "#636efa"
         },
         "name": "",
         "notched": false,
         "offsetgroup": "",
         "orientation": "v",
         "showlegend": false,
         "type": "box",
         "x": [
          "Normal_Weight",
          "Normal_Weight",
          "Normal_Weight",
          "Overweight_Level_I",
          "Overweight_Level_II",
          "Normal_Weight",
          "Normal_Weight",
          "Normal_Weight",
          "Normal_Weight",
          "Normal_Weight",
          "Obesity_Type_I",
          "Overweight_Level_II",
          "Normal_Weight",
          "Obesity_Type_I",
          "Normal_Weight",
          "Normal_Weight",
          "Overweight_Level_II",
          "Obesity_Type_I",
          "Overweight_Level_II",
          "Overweight_Level_I",
          "Overweight_Level_II",
          "Obesity_Type_I",
          "Normal_Weight",
          "Obesity_Type_I",
          "Normal_Weight",
          "Normal_Weight",
          "Normal_Weight",
          "Normal_Weight",
          "Normal_Weight",
          "Normal_Weight",
          "Overweight_Level_I",
          "Overweight_Level_II",
          "Normal_Weight",
          "Overweight_Level_II",
          "Normal_Weight",
          "Overweight_Level_II",
          "Normal_Weight",
          "Normal_Weight",
          "Normal_Weight",
          "Overweight_Level_II",
          "Overweight_Level_I",
          "Normal_Weight",
          "Normal_Weight",
          "Normal_Weight",
          "Normal_Weight",
          "Overweight_Level_II",
          "Normal_Weight",
          "Normal_Weight",
          "Normal_Weight",
          "Normal_Weight",
          "Normal_Weight",
          "Normal_Weight",
          "Normal_Weight",
          "Normal_Weight",
          "Normal_Weight",
          "Normal_Weight",
          "Normal_Weight",
          "Normal_Weight",
          "Normal_Weight",
          "Insufficient_Weight",
          "Normal_Weight",
          "Normal_Weight",
          "Normal_Weight",
          "Normal_Weight",
          "Normal_Weight",
          "Overweight_Level_I",
          "Overweight_Level_II",
          "Obesity_Type_I",
          "Obesity_Type_II",
          "Normal_Weight",
          "Overweight_Level_II",
          "Insufficient_Weight",
          "Normal_Weight",
          "Normal_Weight",
          "Overweight_Level_II",
          "Insufficient_Weight",
          "Insufficient_Weight",
          "Overweight_Level_II",
          "Obesity_Type_I",
          "Normal_Weight",
          "Normal_Weight",
          "Overweight_Level_II",
          "Obesity_Type_I",
          "Insufficient_Weight",
          "Overweight_Level_II",
          "Normal_Weight",
          "Normal_Weight",
          "Overweight_Level_I",
          "Normal_Weight",
          "Overweight_Level_II",
          "Obesity_Type_II",
          "Normal_Weight",
          "Overweight_Level_I",
          "Normal_Weight",
          "Normal_Weight",
          "Normal_Weight",
          "Normal_Weight",
          "Insufficient_Weight",
          "Insufficient_Weight",
          "Normal_Weight",
          "Normal_Weight",
          "Normal_Weight",
          "Normal_Weight",
          "Normal_Weight",
          "Obesity_Type_I",
          "Normal_Weight",
          "Normal_Weight",
          "Overweight_Level_I",
          "Obesity_Type_I",
          "Obesity_Type_I",
          "Normal_Weight",
          "Normal_Weight",
          "Normal_Weight",
          "Normal_Weight",
          "Normal_Weight",
          "Normal_Weight",
          "Obesity_Type_I",
          "Overweight_Level_II",
          "Normal_Weight",
          "Overweight_Level_II",
          "Overweight_Level_I",
          "Overweight_Level_II",
          "Insufficient_Weight",
          "Normal_Weight",
          "Overweight_Level_II",
          "Overweight_Level_I",
          "Normal_Weight",
          "Normal_Weight",
          "Normal_Weight",
          "Overweight_Level_II",
          "Normal_Weight",
          "Normal_Weight",
          "Normal_Weight",
          "Normal_Weight",
          "Obesity_Type_I",
          "Overweight_Level_I",
          "Normal_Weight",
          "Obesity_Type_I",
          "Normal_Weight",
          "Normal_Weight",
          "Insufficient_Weight",
          "Normal_Weight",
          "Obesity_Type_I",
          "Overweight_Level_I",
          "Overweight_Level_I",
          "Overweight_Level_I",
          "Normal_Weight",
          "Obesity_Type_I",
          "Normal_Weight",
          "Obesity_Type_I",
          "Normal_Weight",
          "Normal_Weight",
          "Overweight_Level_I",
          "Overweight_Level_II",
          "Obesity_Type_I",
          "Normal_Weight",
          "Normal_Weight",
          "Normal_Weight",
          "Overweight_Level_I",
          "Overweight_Level_II",
          "Normal_Weight",
          "Overweight_Level_II",
          "Normal_Weight",
          "Normal_Weight",
          "Overweight_Level_II",
          "Obesity_Type_II",
          "Normal_Weight",
          "Overweight_Level_II",
          "Overweight_Level_I",
          "Overweight_Level_II",
          "Overweight_Level_II",
          "Normal_Weight",
          "Normal_Weight",
          "Normal_Weight",
          "Overweight_Level_I",
          "Normal_Weight",
          "Normal_Weight",
          "Normal_Weight",
          "Normal_Weight",
          "Overweight_Level_I",
          "Normal_Weight",
          "Normal_Weight",
          "Insufficient_Weight",
          "Overweight_Level_II",
          "Overweight_Level_I",
          "Overweight_Level_I",
          "Obesity_Type_I",
          "Obesity_Type_I",
          "Obesity_Type_I",
          "Normal_Weight",
          "Normal_Weight",
          "Overweight_Level_I",
          "Overweight_Level_I",
          "Normal_Weight",
          "Obesity_Type_I",
          "Overweight_Level_I",
          "Normal_Weight",
          "Obesity_Type_II",
          "Insufficient_Weight",
          "Normal_Weight",
          "Obesity_Type_I",
          "Obesity_Type_I",
          "Obesity_Type_III",
          "Obesity_Type_I",
          "Normal_Weight",
          "Obesity_Type_I",
          "Obesity_Type_I",
          "Normal_Weight",
          "Normal_Weight",
          "Normal_Weight",
          "Obesity_Type_II",
          "Normal_Weight",
          "Overweight_Level_II",
          "Normal_Weight",
          "Normal_Weight",
          "Normal_Weight",
          "Normal_Weight",
          "Overweight_Level_I",
          "Normal_Weight",
          "Overweight_Level_I",
          "Overweight_Level_I",
          "Overweight_Level_II",
          "Normal_Weight",
          "Normal_Weight",
          "Obesity_Type_I",
          "Obesity_Type_II",
          "Normal_Weight",
          "Normal_Weight",
          "Overweight_Level_II",
          "Obesity_Type_II",
          "Overweight_Level_I",
          "Normal_Weight",
          "Normal_Weight",
          "Overweight_Level_II",
          "Normal_Weight",
          "Normal_Weight",
          "Normal_Weight",
          "Normal_Weight",
          "Normal_Weight",
          "Normal_Weight",
          "Normal_Weight",
          "Overweight_Level_I",
          "Normal_Weight",
          "Overweight_Level_II",
          "Normal_Weight",
          "Insufficient_Weight",
          "Normal_Weight",
          "Normal_Weight",
          "Normal_Weight",
          "Overweight_Level_I",
          "Overweight_Level_II",
          "Overweight_Level_II",
          "Overweight_Level_II",
          "Normal_Weight",
          "Normal_Weight",
          "Overweight_Level_I",
          "Overweight_Level_II",
          "Obesity_Type_I",
          "Overweight_Level_II",
          "Obesity_Type_I",
          "Overweight_Level_I",
          "Overweight_Level_I",
          "Normal_Weight",
          "Insufficient_Weight",
          "Normal_Weight",
          "Insufficient_Weight",
          "Insufficient_Weight",
          "Overweight_Level_II",
          "Normal_Weight",
          "Normal_Weight",
          "Obesity_Type_I",
          "Normal_Weight",
          "Normal_Weight",
          "Normal_Weight",
          "Normal_Weight",
          "Normal_Weight",
          "Insufficient_Weight",
          "Normal_Weight",
          "Normal_Weight",
          "Insufficient_Weight",
          "Normal_Weight",
          "Normal_Weight",
          "Normal_Weight",
          "Normal_Weight",
          "Normal_Weight",
          "Obesity_Type_I",
          "Normal_Weight",
          "Normal_Weight",
          "Normal_Weight",
          "Normal_Weight",
          "Normal_Weight",
          "Insufficient_Weight",
          "Normal_Weight",
          "Normal_Weight",
          "Obesity_Type_I",
          "Normal_Weight",
          "Normal_Weight",
          "Overweight_Level_I",
          "Normal_Weight",
          "Overweight_Level_I",
          "Normal_Weight",
          "Normal_Weight",
          "Insufficient_Weight",
          "Normal_Weight",
          "Overweight_Level_I",
          "Obesity_Type_II",
          "Normal_Weight",
          "Normal_Weight",
          "Normal_Weight",
          "Normal_Weight",
          "Insufficient_Weight",
          "Normal_Weight",
          "Normal_Weight",
          "Normal_Weight",
          "Normal_Weight",
          "Normal_Weight",
          "Normal_Weight",
          "Normal_Weight",
          "Normal_Weight",
          "Overweight_Level_I",
          "Normal_Weight",
          "Normal_Weight",
          "Insufficient_Weight",
          "Normal_Weight",
          "Overweight_Level_I",
          "Normal_Weight",
          "Normal_Weight",
          "Overweight_Level_I",
          "Normal_Weight",
          "Obesity_Type_I",
          "Insufficient_Weight",
          "Normal_Weight",
          "Normal_Weight",
          "Normal_Weight",
          "Overweight_Level_I",
          "Insufficient_Weight",
          "Normal_Weight",
          "Normal_Weight",
          "Overweight_Level_I",
          "Insufficient_Weight",
          "Normal_Weight",
          "Normal_Weight",
          "Obesity_Type_I",
          "Normal_Weight",
          "Obesity_Type_III",
          "Normal_Weight",
          "Normal_Weight",
          "Overweight_Level_II",
          "Normal_Weight",
          "Obesity_Type_I",
          "Normal_Weight",
          "Normal_Weight",
          "Normal_Weight",
          "Normal_Weight",
          "Normal_Weight",
          "Overweight_Level_I",
          "Insufficient_Weight",
          "Normal_Weight",
          "Obesity_Type_II",
          "Normal_Weight",
          "Normal_Weight",
          "Obesity_Type_I",
          "Overweight_Level_I",
          "Normal_Weight",
          "Overweight_Level_I",
          "Normal_Weight",
          "Overweight_Level_II",
          "Overweight_Level_I",
          "Overweight_Level_II",
          "Overweight_Level_II",
          "Normal_Weight",
          "Overweight_Level_I",
          "Normal_Weight",
          "Normal_Weight",
          "Normal_Weight",
          "Overweight_Level_II",
          "Normal_Weight",
          "Normal_Weight",
          "Normal_Weight",
          "Normal_Weight",
          "Overweight_Level_II",
          "Normal_Weight",
          "Normal_Weight",
          "Obesity_Type_I",
          "Normal_Weight",
          "Normal_Weight",
          "Normal_Weight",
          "Obesity_Type_I",
          "Obesity_Type_I",
          "Overweight_Level_I",
          "Insufficient_Weight",
          "Insufficient_Weight",
          "Normal_Weight",
          "Overweight_Level_II",
          "Normal_Weight",
          "Insufficient_Weight",
          "Normal_Weight",
          "Normal_Weight",
          "Obesity_Type_II",
          "Normal_Weight",
          "Overweight_Level_I",
          "Normal_Weight",
          "Overweight_Level_II",
          "Obesity_Type_III",
          "Normal_Weight",
          "Overweight_Level_II",
          "Normal_Weight",
          "Overweight_Level_I",
          "Normal_Weight",
          "Normal_Weight",
          "Normal_Weight",
          "Overweight_Level_I",
          "Normal_Weight",
          "Overweight_Level_II",
          "Obesity_Type_I",
          "Normal_Weight",
          "Overweight_Level_I",
          "Overweight_Level_II",
          "Obesity_Type_I",
          "Obesity_Type_I",
          "Insufficient_Weight",
          "Insufficient_Weight",
          "Normal_Weight",
          "Overweight_Level_II",
          "Overweight_Level_I",
          "Normal_Weight",
          "Normal_Weight",
          "Normal_Weight",
          "Normal_Weight",
          "Normal_Weight",
          "Obesity_Type_I",
          "Normal_Weight",
          "Normal_Weight",
          "Normal_Weight",
          "Normal_Weight",
          "Overweight_Level_I",
          "Normal_Weight",
          "Normal_Weight",
          "Normal_Weight",
          "Normal_Weight",
          "Normal_Weight",
          "Normal_Weight",
          "Normal_Weight",
          "Insufficient_Weight",
          "Normal_Weight",
          "Normal_Weight",
          "Normal_Weight",
          "Overweight_Level_I",
          "Obesity_Type_II",
          "Normal_Weight",
          "Normal_Weight",
          "Normal_Weight",
          "Normal_Weight",
          "Normal_Weight",
          "Normal_Weight",
          "Normal_Weight",
          "Normal_Weight",
          "Normal_Weight",
          "Normal_Weight",
          "Overweight_Level_I",
          "Normal_Weight",
          "Obesity_Type_I",
          "Overweight_Level_II",
          "Normal_Weight",
          "Normal_Weight",
          "Normal_Weight",
          "Normal_Weight",
          "Normal_Weight",
          "Insufficient_Weight",
          "Insufficient_Weight",
          "Normal_Weight",
          "Obesity_Type_I",
          "Overweight_Level_II",
          "Normal_Weight",
          "Normal_Weight",
          "Overweight_Level_I",
          "Overweight_Level_I",
          "Normal_Weight",
          "Normal_Weight",
          "Normal_Weight",
          "Normal_Weight",
          "Normal_Weight",
          "Normal_Weight",
          "Overweight_Level_I",
          "Overweight_Level_II",
          "Normal_Weight",
          "Normal_Weight",
          "Obesity_Type_I",
          "Normal_Weight",
          "Normal_Weight",
          "Overweight_Level_II",
          "Normal_Weight",
          "Overweight_Level_II",
          "Normal_Weight",
          "Normal_Weight",
          "Normal_Weight",
          "Insufficient_Weight",
          "Normal_Weight",
          "Obesity_Type_III",
          "Obesity_Type_III",
          "Obesity_Type_III",
          "Obesity_Type_III",
          "Obesity_Type_III",
          "Obesity_Type_III",
          "Obesity_Type_III",
          "Obesity_Type_III",
          "Obesity_Type_III",
          "Insufficient_Weight",
          "Insufficient_Weight",
          "Insufficient_Weight",
          "Insufficient_Weight",
          "Insufficient_Weight",
          "Insufficient_Weight",
          "Insufficient_Weight",
          "Insufficient_Weight",
          "Insufficient_Weight",
          "Insufficient_Weight",
          "Insufficient_Weight",
          "Insufficient_Weight",
          "Insufficient_Weight",
          "Insufficient_Weight",
          "Insufficient_Weight",
          "Insufficient_Weight",
          "Insufficient_Weight",
          "Insufficient_Weight",
          "Insufficient_Weight",
          "Insufficient_Weight",
          "Insufficient_Weight",
          "Insufficient_Weight",
          "Insufficient_Weight",
          "Insufficient_Weight",
          "Insufficient_Weight",
          "Insufficient_Weight",
          "Insufficient_Weight",
          "Insufficient_Weight",
          "Insufficient_Weight",
          "Insufficient_Weight",
          "Insufficient_Weight",
          "Insufficient_Weight",
          "Insufficient_Weight",
          "Insufficient_Weight",
          "Insufficient_Weight",
          "Insufficient_Weight",
          "Insufficient_Weight",
          "Insufficient_Weight",
          "Insufficient_Weight",
          "Insufficient_Weight",
          "Insufficient_Weight",
          "Insufficient_Weight",
          "Insufficient_Weight",
          "Insufficient_Weight",
          "Insufficient_Weight",
          "Insufficient_Weight",
          "Insufficient_Weight",
          "Insufficient_Weight",
          "Insufficient_Weight",
          "Insufficient_Weight",
          "Insufficient_Weight",
          "Insufficient_Weight",
          "Insufficient_Weight",
          "Insufficient_Weight",
          "Insufficient_Weight",
          "Insufficient_Weight",
          "Insufficient_Weight",
          "Insufficient_Weight",
          "Insufficient_Weight",
          "Insufficient_Weight",
          "Insufficient_Weight",
          "Insufficient_Weight",
          "Insufficient_Weight",
          "Insufficient_Weight",
          "Insufficient_Weight",
          "Insufficient_Weight",
          "Insufficient_Weight",
          "Insufficient_Weight",
          "Insufficient_Weight",
          "Insufficient_Weight",
          "Insufficient_Weight",
          "Insufficient_Weight",
          "Insufficient_Weight",
          "Insufficient_Weight",
          "Insufficient_Weight",
          "Insufficient_Weight",
          "Insufficient_Weight",
          "Insufficient_Weight",
          "Insufficient_Weight",
          "Insufficient_Weight",
          "Insufficient_Weight",
          "Insufficient_Weight",
          "Insufficient_Weight",
          "Insufficient_Weight",
          "Insufficient_Weight",
          "Insufficient_Weight",
          "Insufficient_Weight",
          "Insufficient_Weight",
          "Insufficient_Weight",
          "Insufficient_Weight",
          "Insufficient_Weight",
          "Insufficient_Weight",
          "Insufficient_Weight",
          "Insufficient_Weight",
          "Insufficient_Weight",
          "Insufficient_Weight",
          "Insufficient_Weight",
          "Insufficient_Weight",
          "Insufficient_Weight",
          "Insufficient_Weight",
          "Insufficient_Weight",
          "Insufficient_Weight",
          "Insufficient_Weight",
          "Insufficient_Weight",
          "Insufficient_Weight",
          "Insufficient_Weight",
          "Insufficient_Weight",
          "Insufficient_Weight",
          "Insufficient_Weight",
          "Insufficient_Weight",
          "Insufficient_Weight",
          "Insufficient_Weight",
          "Insufficient_Weight",
          "Insufficient_Weight",
          "Insufficient_Weight",
          "Insufficient_Weight",
          "Insufficient_Weight",
          "Insufficient_Weight",
          "Insufficient_Weight",
          "Insufficient_Weight",
          "Insufficient_Weight",
          "Insufficient_Weight",
          "Insufficient_Weight",
          "Insufficient_Weight",
          "Insufficient_Weight",
          "Insufficient_Weight",
          "Insufficient_Weight",
          "Insufficient_Weight",
          "Insufficient_Weight",
          "Insufficient_Weight",
          "Insufficient_Weight",
          "Insufficient_Weight",
          "Insufficient_Weight",
          "Insufficient_Weight",
          "Insufficient_Weight",
          "Insufficient_Weight",
          "Insufficient_Weight",
          "Insufficient_Weight",
          "Insufficient_Weight",
          "Insufficient_Weight",
          "Insufficient_Weight",
          "Insufficient_Weight",
          "Insufficient_Weight",
          "Insufficient_Weight",
          "Insufficient_Weight",
          "Insufficient_Weight",
          "Insufficient_Weight",
          "Insufficient_Weight",
          "Insufficient_Weight",
          "Insufficient_Weight",
          "Insufficient_Weight",
          "Insufficient_Weight",
          "Insufficient_Weight",
          "Insufficient_Weight",
          "Insufficient_Weight",
          "Insufficient_Weight",
          "Insufficient_Weight",
          "Insufficient_Weight",
          "Insufficient_Weight",
          "Insufficient_Weight",
          "Insufficient_Weight",
          "Insufficient_Weight",
          "Insufficient_Weight",
          "Insufficient_Weight",
          "Insufficient_Weight",
          "Insufficient_Weight",
          "Insufficient_Weight",
          "Insufficient_Weight",
          "Insufficient_Weight",
          "Insufficient_Weight",
          "Insufficient_Weight",
          "Insufficient_Weight",
          "Insufficient_Weight",
          "Insufficient_Weight",
          "Insufficient_Weight",
          "Insufficient_Weight",
          "Insufficient_Weight",
          "Insufficient_Weight",
          "Insufficient_Weight",
          "Insufficient_Weight",
          "Insufficient_Weight",
          "Insufficient_Weight",
          "Insufficient_Weight",
          "Insufficient_Weight",
          "Insufficient_Weight",
          "Insufficient_Weight",
          "Insufficient_Weight",
          "Insufficient_Weight",
          "Insufficient_Weight",
          "Insufficient_Weight",
          "Insufficient_Weight",
          "Insufficient_Weight",
          "Insufficient_Weight",
          "Insufficient_Weight",
          "Insufficient_Weight",
          "Insufficient_Weight",
          "Insufficient_Weight",
          "Insufficient_Weight",
          "Insufficient_Weight",
          "Insufficient_Weight",
          "Insufficient_Weight",
          "Insufficient_Weight",
          "Insufficient_Weight",
          "Insufficient_Weight",
          "Insufficient_Weight",
          "Insufficient_Weight",
          "Insufficient_Weight",
          "Insufficient_Weight",
          "Insufficient_Weight",
          "Insufficient_Weight",
          "Insufficient_Weight",
          "Insufficient_Weight",
          "Insufficient_Weight",
          "Insufficient_Weight",
          "Insufficient_Weight",
          "Insufficient_Weight",
          "Insufficient_Weight",
          "Insufficient_Weight",
          "Insufficient_Weight",
          "Insufficient_Weight",
          "Insufficient_Weight",
          "Insufficient_Weight",
          "Insufficient_Weight",
          "Insufficient_Weight",
          "Insufficient_Weight",
          "Insufficient_Weight",
          "Insufficient_Weight",
          "Insufficient_Weight",
          "Insufficient_Weight",
          "Insufficient_Weight",
          "Insufficient_Weight",
          "Insufficient_Weight",
          "Insufficient_Weight",
          "Insufficient_Weight",
          "Insufficient_Weight",
          "Insufficient_Weight",
          "Insufficient_Weight",
          "Insufficient_Weight",
          "Overweight_Level_I",
          "Overweight_Level_I",
          "Overweight_Level_I",
          "Overweight_Level_I",
          "Overweight_Level_I",
          "Overweight_Level_I",
          "Overweight_Level_I",
          "Overweight_Level_I",
          "Overweight_Level_I",
          "Overweight_Level_I",
          "Overweight_Level_I",
          "Overweight_Level_I",
          "Overweight_Level_I",
          "Overweight_Level_I",
          "Overweight_Level_I",
          "Overweight_Level_I",
          "Overweight_Level_I",
          "Overweight_Level_I",
          "Overweight_Level_I",
          "Overweight_Level_I",
          "Overweight_Level_I",
          "Overweight_Level_I",
          "Overweight_Level_I",
          "Overweight_Level_I",
          "Overweight_Level_I",
          "Overweight_Level_I",
          "Overweight_Level_I",
          "Overweight_Level_I",
          "Overweight_Level_I",
          "Overweight_Level_I",
          "Overweight_Level_I",
          "Overweight_Level_I",
          "Overweight_Level_I",
          "Overweight_Level_I",
          "Overweight_Level_I",
          "Overweight_Level_I",
          "Overweight_Level_I",
          "Overweight_Level_I",
          "Overweight_Level_I",
          "Overweight_Level_I",
          "Overweight_Level_I",
          "Overweight_Level_I",
          "Overweight_Level_I",
          "Overweight_Level_I",
          "Overweight_Level_I",
          "Overweight_Level_I",
          "Overweight_Level_I",
          "Overweight_Level_I",
          "Overweight_Level_I",
          "Overweight_Level_I",
          "Overweight_Level_I",
          "Overweight_Level_I",
          "Overweight_Level_I",
          "Overweight_Level_I",
          "Overweight_Level_I",
          "Overweight_Level_I",
          "Overweight_Level_I",
          "Overweight_Level_I",
          "Overweight_Level_I",
          "Overweight_Level_I",
          "Overweight_Level_I",
          "Overweight_Level_I",
          "Overweight_Level_I",
          "Overweight_Level_I",
          "Overweight_Level_I",
          "Overweight_Level_I",
          "Overweight_Level_I",
          "Overweight_Level_I",
          "Overweight_Level_I",
          "Overweight_Level_I",
          "Overweight_Level_I",
          "Overweight_Level_I",
          "Overweight_Level_I",
          "Overweight_Level_I",
          "Overweight_Level_I",
          "Overweight_Level_I",
          "Overweight_Level_I",
          "Overweight_Level_I",
          "Overweight_Level_I",
          "Overweight_Level_I",
          "Overweight_Level_I",
          "Overweight_Level_I",
          "Overweight_Level_I",
          "Overweight_Level_I",
          "Overweight_Level_I",
          "Overweight_Level_I",
          "Overweight_Level_I",
          "Overweight_Level_I",
          "Overweight_Level_I",
          "Overweight_Level_I",
          "Overweight_Level_I",
          "Overweight_Level_I",
          "Overweight_Level_I",
          "Overweight_Level_I",
          "Overweight_Level_I",
          "Overweight_Level_I",
          "Overweight_Level_I",
          "Overweight_Level_I",
          "Overweight_Level_I",
          "Overweight_Level_I",
          "Overweight_Level_I",
          "Overweight_Level_I",
          "Overweight_Level_I",
          "Overweight_Level_I",
          "Overweight_Level_I",
          "Overweight_Level_I",
          "Overweight_Level_I",
          "Overweight_Level_I",
          "Overweight_Level_I",
          "Overweight_Level_I",
          "Overweight_Level_I",
          "Overweight_Level_I",
          "Overweight_Level_I",
          "Overweight_Level_I",
          "Overweight_Level_I",
          "Overweight_Level_I",
          "Overweight_Level_I",
          "Overweight_Level_I",
          "Overweight_Level_I",
          "Overweight_Level_I",
          "Overweight_Level_I",
          "Overweight_Level_I",
          "Overweight_Level_I",
          "Overweight_Level_I",
          "Overweight_Level_I",
          "Overweight_Level_I",
          "Overweight_Level_I",
          "Overweight_Level_I",
          "Overweight_Level_I",
          "Overweight_Level_I",
          "Overweight_Level_I",
          "Overweight_Level_I",
          "Overweight_Level_I",
          "Overweight_Level_I",
          "Overweight_Level_I",
          "Overweight_Level_I",
          "Overweight_Level_I",
          "Overweight_Level_I",
          "Overweight_Level_I",
          "Overweight_Level_I",
          "Overweight_Level_I",
          "Overweight_Level_I",
          "Overweight_Level_I",
          "Overweight_Level_I",
          "Overweight_Level_I",
          "Overweight_Level_I",
          "Overweight_Level_I",
          "Overweight_Level_I",
          "Overweight_Level_I",
          "Overweight_Level_I",
          "Overweight_Level_I",
          "Overweight_Level_I",
          "Overweight_Level_I",
          "Overweight_Level_I",
          "Overweight_Level_I",
          "Overweight_Level_I",
          "Overweight_Level_I",
          "Overweight_Level_I",
          "Overweight_Level_I",
          "Overweight_Level_I",
          "Overweight_Level_I",
          "Overweight_Level_I",
          "Overweight_Level_I",
          "Overweight_Level_I",
          "Overweight_Level_I",
          "Overweight_Level_I",
          "Overweight_Level_I",
          "Overweight_Level_I",
          "Overweight_Level_I",
          "Overweight_Level_I",
          "Overweight_Level_I",
          "Overweight_Level_I",
          "Overweight_Level_I",
          "Overweight_Level_I",
          "Overweight_Level_I",
          "Overweight_Level_I",
          "Overweight_Level_I",
          "Overweight_Level_I",
          "Overweight_Level_I",
          "Overweight_Level_I",
          "Overweight_Level_I",
          "Overweight_Level_I",
          "Overweight_Level_I",
          "Overweight_Level_I",
          "Overweight_Level_I",
          "Overweight_Level_I",
          "Overweight_Level_I",
          "Overweight_Level_I",
          "Overweight_Level_I",
          "Overweight_Level_I",
          "Overweight_Level_I",
          "Overweight_Level_I",
          "Overweight_Level_I",
          "Overweight_Level_I",
          "Overweight_Level_I",
          "Overweight_Level_I",
          "Overweight_Level_I",
          "Overweight_Level_I",
          "Overweight_Level_I",
          "Overweight_Level_I",
          "Overweight_Level_I",
          "Overweight_Level_I",
          "Overweight_Level_I",
          "Overweight_Level_I",
          "Overweight_Level_I",
          "Overweight_Level_I",
          "Overweight_Level_I",
          "Overweight_Level_I",
          "Overweight_Level_I",
          "Overweight_Level_I",
          "Overweight_Level_I",
          "Overweight_Level_I",
          "Overweight_Level_I",
          "Overweight_Level_I",
          "Overweight_Level_I",
          "Overweight_Level_I",
          "Overweight_Level_I",
          "Overweight_Level_I",
          "Overweight_Level_I",
          "Overweight_Level_I",
          "Overweight_Level_I",
          "Overweight_Level_I",
          "Overweight_Level_I",
          "Overweight_Level_I",
          "Overweight_Level_I",
          "Overweight_Level_I",
          "Overweight_Level_I",
          "Overweight_Level_I",
          "Overweight_Level_I",
          "Overweight_Level_I",
          "Overweight_Level_I",
          "Overweight_Level_I",
          "Overweight_Level_II",
          "Overweight_Level_II",
          "Overweight_Level_II",
          "Overweight_Level_II",
          "Overweight_Level_II",
          "Overweight_Level_II",
          "Overweight_Level_II",
          "Overweight_Level_II",
          "Overweight_Level_II",
          "Overweight_Level_II",
          "Overweight_Level_II",
          "Overweight_Level_II",
          "Overweight_Level_II",
          "Overweight_Level_II",
          "Overweight_Level_II",
          "Overweight_Level_II",
          "Overweight_Level_II",
          "Overweight_Level_II",
          "Overweight_Level_II",
          "Overweight_Level_II",
          "Overweight_Level_II",
          "Overweight_Level_II",
          "Overweight_Level_II",
          "Overweight_Level_II",
          "Overweight_Level_II",
          "Overweight_Level_II",
          "Overweight_Level_II",
          "Overweight_Level_II",
          "Overweight_Level_II",
          "Overweight_Level_II",
          "Overweight_Level_II",
          "Overweight_Level_II",
          "Overweight_Level_II",
          "Overweight_Level_II",
          "Overweight_Level_II",
          "Overweight_Level_II",
          "Overweight_Level_II",
          "Overweight_Level_II",
          "Overweight_Level_II",
          "Overweight_Level_II",
          "Overweight_Level_II",
          "Overweight_Level_II",
          "Overweight_Level_II",
          "Overweight_Level_II",
          "Overweight_Level_II",
          "Overweight_Level_II",
          "Overweight_Level_II",
          "Overweight_Level_II",
          "Overweight_Level_II",
          "Overweight_Level_II",
          "Overweight_Level_II",
          "Overweight_Level_II",
          "Overweight_Level_II",
          "Overweight_Level_II",
          "Overweight_Level_II",
          "Overweight_Level_II",
          "Overweight_Level_II",
          "Overweight_Level_II",
          "Overweight_Level_II",
          "Overweight_Level_II",
          "Overweight_Level_II",
          "Overweight_Level_II",
          "Overweight_Level_II",
          "Overweight_Level_II",
          "Overweight_Level_II",
          "Overweight_Level_II",
          "Overweight_Level_II",
          "Overweight_Level_II",
          "Overweight_Level_II",
          "Overweight_Level_II",
          "Overweight_Level_II",
          "Overweight_Level_II",
          "Overweight_Level_II",
          "Overweight_Level_II",
          "Overweight_Level_II",
          "Overweight_Level_II",
          "Overweight_Level_II",
          "Overweight_Level_II",
          "Overweight_Level_II",
          "Overweight_Level_II",
          "Overweight_Level_II",
          "Overweight_Level_II",
          "Overweight_Level_II",
          "Overweight_Level_II",
          "Overweight_Level_II",
          "Overweight_Level_II",
          "Overweight_Level_II",
          "Overweight_Level_II",
          "Overweight_Level_II",
          "Overweight_Level_II",
          "Overweight_Level_II",
          "Overweight_Level_II",
          "Overweight_Level_II",
          "Overweight_Level_II",
          "Overweight_Level_II",
          "Overweight_Level_II",
          "Overweight_Level_II",
          "Overweight_Level_II",
          "Overweight_Level_II",
          "Overweight_Level_II",
          "Overweight_Level_II",
          "Overweight_Level_II",
          "Overweight_Level_II",
          "Overweight_Level_II",
          "Overweight_Level_II",
          "Overweight_Level_II",
          "Overweight_Level_II",
          "Overweight_Level_II",
          "Overweight_Level_II",
          "Overweight_Level_II",
          "Overweight_Level_II",
          "Overweight_Level_II",
          "Overweight_Level_II",
          "Overweight_Level_II",
          "Overweight_Level_II",
          "Overweight_Level_II",
          "Overweight_Level_II",
          "Overweight_Level_II",
          "Overweight_Level_II",
          "Overweight_Level_II",
          "Overweight_Level_II",
          "Overweight_Level_II",
          "Overweight_Level_II",
          "Overweight_Level_II",
          "Overweight_Level_II",
          "Overweight_Level_II",
          "Overweight_Level_II",
          "Overweight_Level_II",
          "Overweight_Level_II",
          "Overweight_Level_II",
          "Overweight_Level_II",
          "Overweight_Level_II",
          "Overweight_Level_II",
          "Overweight_Level_II",
          "Overweight_Level_II",
          "Overweight_Level_II",
          "Overweight_Level_II",
          "Overweight_Level_II",
          "Overweight_Level_II",
          "Overweight_Level_II",
          "Overweight_Level_II",
          "Overweight_Level_II",
          "Overweight_Level_II",
          "Overweight_Level_II",
          "Overweight_Level_II",
          "Overweight_Level_II",
          "Overweight_Level_II",
          "Overweight_Level_II",
          "Overweight_Level_II",
          "Overweight_Level_II",
          "Overweight_Level_II",
          "Overweight_Level_II",
          "Overweight_Level_II",
          "Overweight_Level_II",
          "Overweight_Level_II",
          "Overweight_Level_II",
          "Overweight_Level_II",
          "Overweight_Level_II",
          "Overweight_Level_II",
          "Overweight_Level_II",
          "Overweight_Level_II",
          "Overweight_Level_II",
          "Overweight_Level_II",
          "Overweight_Level_II",
          "Overweight_Level_II",
          "Overweight_Level_II",
          "Overweight_Level_II",
          "Overweight_Level_II",
          "Overweight_Level_II",
          "Overweight_Level_II",
          "Overweight_Level_II",
          "Overweight_Level_II",
          "Overweight_Level_II",
          "Overweight_Level_II",
          "Overweight_Level_II",
          "Overweight_Level_II",
          "Overweight_Level_II",
          "Overweight_Level_II",
          "Overweight_Level_II",
          "Overweight_Level_II",
          "Overweight_Level_II",
          "Overweight_Level_II",
          "Overweight_Level_II",
          "Overweight_Level_II",
          "Overweight_Level_II",
          "Overweight_Level_II",
          "Overweight_Level_II",
          "Overweight_Level_II",
          "Overweight_Level_II",
          "Overweight_Level_II",
          "Overweight_Level_II",
          "Overweight_Level_II",
          "Overweight_Level_II",
          "Overweight_Level_II",
          "Overweight_Level_II",
          "Overweight_Level_II",
          "Overweight_Level_II",
          "Overweight_Level_II",
          "Overweight_Level_II",
          "Overweight_Level_II",
          "Overweight_Level_II",
          "Overweight_Level_II",
          "Overweight_Level_II",
          "Overweight_Level_II",
          "Overweight_Level_II",
          "Overweight_Level_II",
          "Overweight_Level_II",
          "Overweight_Level_II",
          "Overweight_Level_II",
          "Overweight_Level_II",
          "Overweight_Level_II",
          "Overweight_Level_II",
          "Overweight_Level_II",
          "Overweight_Level_II",
          "Overweight_Level_II",
          "Overweight_Level_II",
          "Overweight_Level_II",
          "Overweight_Level_II",
          "Overweight_Level_II",
          "Overweight_Level_II",
          "Overweight_Level_II",
          "Overweight_Level_II",
          "Overweight_Level_II",
          "Overweight_Level_II",
          "Overweight_Level_II",
          "Overweight_Level_II",
          "Overweight_Level_II",
          "Overweight_Level_II",
          "Overweight_Level_II",
          "Overweight_Level_II",
          "Overweight_Level_II",
          "Overweight_Level_II",
          "Obesity_Type_I",
          "Obesity_Type_I",
          "Obesity_Type_I",
          "Obesity_Type_I",
          "Obesity_Type_I",
          "Obesity_Type_I",
          "Obesity_Type_I",
          "Obesity_Type_I",
          "Obesity_Type_I",
          "Obesity_Type_I",
          "Obesity_Type_I",
          "Obesity_Type_I",
          "Obesity_Type_I",
          "Obesity_Type_I",
          "Obesity_Type_I",
          "Obesity_Type_I",
          "Obesity_Type_I",
          "Obesity_Type_I",
          "Obesity_Type_I",
          "Obesity_Type_I",
          "Obesity_Type_I",
          "Obesity_Type_I",
          "Obesity_Type_I",
          "Obesity_Type_I",
          "Obesity_Type_I",
          "Obesity_Type_I",
          "Obesity_Type_I",
          "Obesity_Type_I",
          "Obesity_Type_I",
          "Obesity_Type_I",
          "Obesity_Type_I",
          "Obesity_Type_I",
          "Obesity_Type_I",
          "Obesity_Type_I",
          "Obesity_Type_I",
          "Obesity_Type_I",
          "Obesity_Type_I",
          "Obesity_Type_I",
          "Obesity_Type_I",
          "Obesity_Type_I",
          "Obesity_Type_I",
          "Obesity_Type_I",
          "Obesity_Type_I",
          "Obesity_Type_I",
          "Obesity_Type_I",
          "Obesity_Type_I",
          "Obesity_Type_I",
          "Obesity_Type_I",
          "Obesity_Type_I",
          "Obesity_Type_I",
          "Obesity_Type_I",
          "Obesity_Type_I",
          "Obesity_Type_I",
          "Obesity_Type_I",
          "Obesity_Type_I",
          "Obesity_Type_I",
          "Obesity_Type_I",
          "Obesity_Type_I",
          "Obesity_Type_I",
          "Obesity_Type_I",
          "Obesity_Type_I",
          "Obesity_Type_I",
          "Obesity_Type_I",
          "Obesity_Type_I",
          "Obesity_Type_I",
          "Obesity_Type_I",
          "Obesity_Type_I",
          "Obesity_Type_I",
          "Obesity_Type_I",
          "Obesity_Type_I",
          "Obesity_Type_I",
          "Obesity_Type_I",
          "Obesity_Type_I",
          "Obesity_Type_I",
          "Obesity_Type_I",
          "Obesity_Type_I",
          "Obesity_Type_I",
          "Obesity_Type_I",
          "Obesity_Type_I",
          "Obesity_Type_I",
          "Obesity_Type_I",
          "Obesity_Type_I",
          "Obesity_Type_I",
          "Obesity_Type_I",
          "Obesity_Type_I",
          "Obesity_Type_I",
          "Obesity_Type_I",
          "Obesity_Type_I",
          "Obesity_Type_I",
          "Obesity_Type_I",
          "Obesity_Type_I",
          "Obesity_Type_I",
          "Obesity_Type_I",
          "Obesity_Type_I",
          "Obesity_Type_I",
          "Obesity_Type_I",
          "Obesity_Type_I",
          "Obesity_Type_I",
          "Obesity_Type_I",
          "Obesity_Type_I",
          "Obesity_Type_I",
          "Obesity_Type_I",
          "Obesity_Type_I",
          "Obesity_Type_I",
          "Obesity_Type_I",
          "Obesity_Type_I",
          "Obesity_Type_I",
          "Obesity_Type_I",
          "Obesity_Type_I",
          "Obesity_Type_I",
          "Obesity_Type_I",
          "Obesity_Type_I",
          "Obesity_Type_I",
          "Obesity_Type_I",
          "Obesity_Type_I",
          "Obesity_Type_I",
          "Obesity_Type_I",
          "Obesity_Type_I",
          "Obesity_Type_I",
          "Obesity_Type_I",
          "Obesity_Type_I",
          "Obesity_Type_I",
          "Obesity_Type_I",
          "Obesity_Type_I",
          "Obesity_Type_I",
          "Obesity_Type_I",
          "Obesity_Type_I",
          "Obesity_Type_I",
          "Obesity_Type_I",
          "Obesity_Type_I",
          "Obesity_Type_I",
          "Obesity_Type_I",
          "Obesity_Type_I",
          "Obesity_Type_I",
          "Obesity_Type_I",
          "Obesity_Type_I",
          "Obesity_Type_I",
          "Obesity_Type_I",
          "Obesity_Type_I",
          "Obesity_Type_I",
          "Obesity_Type_I",
          "Obesity_Type_I",
          "Obesity_Type_I",
          "Obesity_Type_I",
          "Obesity_Type_I",
          "Obesity_Type_I",
          "Obesity_Type_I",
          "Obesity_Type_I",
          "Obesity_Type_I",
          "Obesity_Type_I",
          "Obesity_Type_I",
          "Obesity_Type_I",
          "Obesity_Type_I",
          "Obesity_Type_I",
          "Obesity_Type_I",
          "Obesity_Type_I",
          "Obesity_Type_I",
          "Obesity_Type_I",
          "Obesity_Type_I",
          "Obesity_Type_I",
          "Obesity_Type_I",
          "Obesity_Type_I",
          "Obesity_Type_I",
          "Obesity_Type_I",
          "Obesity_Type_I",
          "Obesity_Type_I",
          "Obesity_Type_I",
          "Obesity_Type_I",
          "Obesity_Type_I",
          "Obesity_Type_I",
          "Obesity_Type_I",
          "Obesity_Type_I",
          "Obesity_Type_I",
          "Obesity_Type_I",
          "Obesity_Type_I",
          "Obesity_Type_I",
          "Obesity_Type_I",
          "Obesity_Type_I",
          "Obesity_Type_I",
          "Obesity_Type_I",
          "Obesity_Type_I",
          "Obesity_Type_I",
          "Obesity_Type_I",
          "Obesity_Type_I",
          "Obesity_Type_I",
          "Obesity_Type_I",
          "Obesity_Type_I",
          "Obesity_Type_I",
          "Obesity_Type_I",
          "Obesity_Type_I",
          "Obesity_Type_I",
          "Obesity_Type_I",
          "Obesity_Type_I",
          "Obesity_Type_I",
          "Obesity_Type_I",
          "Obesity_Type_I",
          "Obesity_Type_I",
          "Obesity_Type_I",
          "Obesity_Type_I",
          "Obesity_Type_I",
          "Obesity_Type_I",
          "Obesity_Type_I",
          "Obesity_Type_I",
          "Obesity_Type_I",
          "Obesity_Type_I",
          "Obesity_Type_I",
          "Obesity_Type_I",
          "Obesity_Type_I",
          "Obesity_Type_I",
          "Obesity_Type_I",
          "Obesity_Type_I",
          "Obesity_Type_I",
          "Obesity_Type_I",
          "Obesity_Type_I",
          "Obesity_Type_I",
          "Obesity_Type_I",
          "Obesity_Type_I",
          "Obesity_Type_I",
          "Obesity_Type_I",
          "Obesity_Type_I",
          "Obesity_Type_I",
          "Obesity_Type_I",
          "Obesity_Type_I",
          "Obesity_Type_I",
          "Obesity_Type_I",
          "Obesity_Type_I",
          "Obesity_Type_I",
          "Obesity_Type_I",
          "Obesity_Type_I",
          "Obesity_Type_I",
          "Obesity_Type_I",
          "Obesity_Type_I",
          "Obesity_Type_I",
          "Obesity_Type_I",
          "Obesity_Type_I",
          "Obesity_Type_I",
          "Obesity_Type_I",
          "Obesity_Type_I",
          "Obesity_Type_I",
          "Obesity_Type_I",
          "Obesity_Type_I",
          "Obesity_Type_I",
          "Obesity_Type_I",
          "Obesity_Type_I",
          "Obesity_Type_I",
          "Obesity_Type_I",
          "Obesity_Type_I",
          "Obesity_Type_I",
          "Obesity_Type_I",
          "Obesity_Type_I",
          "Obesity_Type_I",
          "Obesity_Type_I",
          "Obesity_Type_I",
          "Obesity_Type_I",
          "Obesity_Type_I",
          "Obesity_Type_I",
          "Obesity_Type_I",
          "Obesity_Type_I",
          "Obesity_Type_I",
          "Obesity_Type_I",
          "Obesity_Type_I",
          "Obesity_Type_I",
          "Obesity_Type_I",
          "Obesity_Type_I",
          "Obesity_Type_I",
          "Obesity_Type_I",
          "Obesity_Type_I",
          "Obesity_Type_I",
          "Obesity_Type_I",
          "Obesity_Type_I",
          "Obesity_Type_I",
          "Obesity_Type_I",
          "Obesity_Type_I",
          "Obesity_Type_I",
          "Obesity_Type_I",
          "Obesity_Type_I",
          "Obesity_Type_I",
          "Obesity_Type_I",
          "Obesity_Type_I",
          "Obesity_Type_I",
          "Obesity_Type_I",
          "Obesity_Type_I",
          "Obesity_Type_I",
          "Obesity_Type_I",
          "Obesity_Type_I",
          "Obesity_Type_I",
          "Obesity_Type_I",
          "Obesity_Type_I",
          "Obesity_Type_I",
          "Obesity_Type_I",
          "Obesity_Type_I",
          "Obesity_Type_I",
          "Obesity_Type_I",
          "Obesity_Type_I",
          "Obesity_Type_I",
          "Obesity_Type_I",
          "Obesity_Type_I",
          "Obesity_Type_I",
          "Obesity_Type_I",
          "Obesity_Type_I",
          "Obesity_Type_I",
          "Obesity_Type_I",
          "Obesity_Type_I",
          "Obesity_Type_I",
          "Obesity_Type_II",
          "Obesity_Type_II",
          "Obesity_Type_II",
          "Obesity_Type_II",
          "Obesity_Type_II",
          "Obesity_Type_II",
          "Obesity_Type_II",
          "Obesity_Type_II",
          "Obesity_Type_II",
          "Obesity_Type_II",
          "Obesity_Type_II",
          "Obesity_Type_II",
          "Obesity_Type_II",
          "Obesity_Type_II",
          "Obesity_Type_II",
          "Obesity_Type_II",
          "Obesity_Type_II",
          "Obesity_Type_II",
          "Obesity_Type_II",
          "Obesity_Type_II",
          "Obesity_Type_II",
          "Obesity_Type_II",
          "Obesity_Type_II",
          "Obesity_Type_II",
          "Obesity_Type_II",
          "Obesity_Type_II",
          "Obesity_Type_II",
          "Obesity_Type_II",
          "Obesity_Type_II",
          "Obesity_Type_II",
          "Obesity_Type_II",
          "Obesity_Type_II",
          "Obesity_Type_II",
          "Obesity_Type_II",
          "Obesity_Type_II",
          "Obesity_Type_II",
          "Obesity_Type_II",
          "Obesity_Type_II",
          "Obesity_Type_II",
          "Obesity_Type_II",
          "Obesity_Type_II",
          "Obesity_Type_II",
          "Obesity_Type_II",
          "Obesity_Type_II",
          "Obesity_Type_II",
          "Obesity_Type_II",
          "Obesity_Type_II",
          "Obesity_Type_II",
          "Obesity_Type_II",
          "Obesity_Type_II",
          "Obesity_Type_II",
          "Obesity_Type_II",
          "Obesity_Type_II",
          "Obesity_Type_II",
          "Obesity_Type_II",
          "Obesity_Type_II",
          "Obesity_Type_II",
          "Obesity_Type_II",
          "Obesity_Type_II",
          "Obesity_Type_II",
          "Obesity_Type_II",
          "Obesity_Type_II",
          "Obesity_Type_II",
          "Obesity_Type_II",
          "Obesity_Type_II",
          "Obesity_Type_II",
          "Obesity_Type_II",
          "Obesity_Type_II",
          "Obesity_Type_II",
          "Obesity_Type_II",
          "Obesity_Type_II",
          "Obesity_Type_II",
          "Obesity_Type_II",
          "Obesity_Type_II",
          "Obesity_Type_II",
          "Obesity_Type_II",
          "Obesity_Type_II",
          "Obesity_Type_II",
          "Obesity_Type_II",
          "Obesity_Type_II",
          "Obesity_Type_II",
          "Obesity_Type_II",
          "Obesity_Type_II",
          "Obesity_Type_II",
          "Obesity_Type_II",
          "Obesity_Type_II",
          "Obesity_Type_II",
          "Obesity_Type_II",
          "Obesity_Type_II",
          "Obesity_Type_II",
          "Obesity_Type_II",
          "Obesity_Type_II",
          "Obesity_Type_II",
          "Obesity_Type_II",
          "Obesity_Type_II",
          "Obesity_Type_II",
          "Obesity_Type_II",
          "Obesity_Type_II",
          "Obesity_Type_II",
          "Obesity_Type_II",
          "Obesity_Type_II",
          "Obesity_Type_II",
          "Obesity_Type_II",
          "Obesity_Type_II",
          "Obesity_Type_II",
          "Obesity_Type_II",
          "Obesity_Type_II",
          "Obesity_Type_II",
          "Obesity_Type_II",
          "Obesity_Type_II",
          "Obesity_Type_II",
          "Obesity_Type_II",
          "Obesity_Type_II",
          "Obesity_Type_II",
          "Obesity_Type_II",
          "Obesity_Type_II",
          "Obesity_Type_II",
          "Obesity_Type_II",
          "Obesity_Type_II",
          "Obesity_Type_II",
          "Obesity_Type_II",
          "Obesity_Type_II",
          "Obesity_Type_II",
          "Obesity_Type_II",
          "Obesity_Type_II",
          "Obesity_Type_II",
          "Obesity_Type_II",
          "Obesity_Type_II",
          "Obesity_Type_II",
          "Obesity_Type_II",
          "Obesity_Type_II",
          "Obesity_Type_II",
          "Obesity_Type_II",
          "Obesity_Type_II",
          "Obesity_Type_II",
          "Obesity_Type_II",
          "Obesity_Type_II",
          "Obesity_Type_II",
          "Obesity_Type_II",
          "Obesity_Type_II",
          "Obesity_Type_II",
          "Obesity_Type_II",
          "Obesity_Type_II",
          "Obesity_Type_II",
          "Obesity_Type_II",
          "Obesity_Type_II",
          "Obesity_Type_II",
          "Obesity_Type_II",
          "Obesity_Type_II",
          "Obesity_Type_II",
          "Obesity_Type_II",
          "Obesity_Type_II",
          "Obesity_Type_II",
          "Obesity_Type_II",
          "Obesity_Type_II",
          "Obesity_Type_II",
          "Obesity_Type_II",
          "Obesity_Type_II",
          "Obesity_Type_II",
          "Obesity_Type_II",
          "Obesity_Type_II",
          "Obesity_Type_II",
          "Obesity_Type_II",
          "Obesity_Type_II",
          "Obesity_Type_II",
          "Obesity_Type_II",
          "Obesity_Type_II",
          "Obesity_Type_II",
          "Obesity_Type_II",
          "Obesity_Type_II",
          "Obesity_Type_II",
          "Obesity_Type_II",
          "Obesity_Type_II",
          "Obesity_Type_II",
          "Obesity_Type_II",
          "Obesity_Type_II",
          "Obesity_Type_II",
          "Obesity_Type_II",
          "Obesity_Type_II",
          "Obesity_Type_II",
          "Obesity_Type_II",
          "Obesity_Type_II",
          "Obesity_Type_II",
          "Obesity_Type_II",
          "Obesity_Type_II",
          "Obesity_Type_II",
          "Obesity_Type_II",
          "Obesity_Type_II",
          "Obesity_Type_II",
          "Obesity_Type_II",
          "Obesity_Type_II",
          "Obesity_Type_II",
          "Obesity_Type_II",
          "Obesity_Type_II",
          "Obesity_Type_II",
          "Obesity_Type_II",
          "Obesity_Type_II",
          "Obesity_Type_II",
          "Obesity_Type_II",
          "Obesity_Type_II",
          "Obesity_Type_II",
          "Obesity_Type_II",
          "Obesity_Type_II",
          "Obesity_Type_II",
          "Obesity_Type_II",
          "Obesity_Type_II",
          "Obesity_Type_II",
          "Obesity_Type_II",
          "Obesity_Type_II",
          "Obesity_Type_II",
          "Obesity_Type_II",
          "Obesity_Type_II",
          "Obesity_Type_II",
          "Obesity_Type_II",
          "Obesity_Type_II",
          "Obesity_Type_II",
          "Obesity_Type_II",
          "Obesity_Type_II",
          "Obesity_Type_II",
          "Obesity_Type_II",
          "Obesity_Type_II",
          "Obesity_Type_II",
          "Obesity_Type_II",
          "Obesity_Type_II",
          "Obesity_Type_II",
          "Obesity_Type_II",
          "Obesity_Type_II",
          "Obesity_Type_II",
          "Obesity_Type_II",
          "Obesity_Type_II",
          "Obesity_Type_II",
          "Obesity_Type_II",
          "Obesity_Type_II",
          "Obesity_Type_II",
          "Obesity_Type_II",
          "Obesity_Type_II",
          "Obesity_Type_II",
          "Obesity_Type_II",
          "Obesity_Type_II",
          "Obesity_Type_II",
          "Obesity_Type_II",
          "Obesity_Type_II",
          "Obesity_Type_II",
          "Obesity_Type_II",
          "Obesity_Type_II",
          "Obesity_Type_II",
          "Obesity_Type_II",
          "Obesity_Type_II",
          "Obesity_Type_II",
          "Obesity_Type_II",
          "Obesity_Type_II",
          "Obesity_Type_II",
          "Obesity_Type_II",
          "Obesity_Type_II",
          "Obesity_Type_II",
          "Obesity_Type_II",
          "Obesity_Type_II",
          "Obesity_Type_II",
          "Obesity_Type_II",
          "Obesity_Type_II",
          "Obesity_Type_II",
          "Obesity_Type_II",
          "Obesity_Type_II",
          "Obesity_Type_II",
          "Obesity_Type_II",
          "Obesity_Type_II",
          "Obesity_Type_II",
          "Obesity_Type_II",
          "Obesity_Type_II",
          "Obesity_Type_II",
          "Obesity_Type_II",
          "Obesity_Type_II",
          "Obesity_Type_II",
          "Obesity_Type_II",
          "Obesity_Type_II",
          "Obesity_Type_II",
          "Obesity_Type_II",
          "Obesity_Type_II",
          "Obesity_Type_II",
          "Obesity_Type_II",
          "Obesity_Type_II",
          "Obesity_Type_II",
          "Obesity_Type_II",
          "Obesity_Type_II",
          "Obesity_Type_II",
          "Obesity_Type_II",
          "Obesity_Type_III",
          "Obesity_Type_III",
          "Obesity_Type_III",
          "Obesity_Type_III",
          "Obesity_Type_III",
          "Obesity_Type_III",
          "Obesity_Type_III",
          "Obesity_Type_III",
          "Obesity_Type_III",
          "Obesity_Type_III",
          "Obesity_Type_III",
          "Obesity_Type_III",
          "Obesity_Type_III",
          "Obesity_Type_III",
          "Obesity_Type_III",
          "Obesity_Type_III",
          "Obesity_Type_III",
          "Obesity_Type_III",
          "Obesity_Type_III",
          "Obesity_Type_III",
          "Obesity_Type_III",
          "Obesity_Type_III",
          "Obesity_Type_III",
          "Obesity_Type_III",
          "Obesity_Type_III",
          "Obesity_Type_III",
          "Obesity_Type_III",
          "Obesity_Type_III",
          "Obesity_Type_III",
          "Obesity_Type_III",
          "Obesity_Type_III",
          "Obesity_Type_III",
          "Obesity_Type_III",
          "Obesity_Type_III",
          "Obesity_Type_III",
          "Obesity_Type_III",
          "Obesity_Type_III",
          "Obesity_Type_III",
          "Obesity_Type_III",
          "Obesity_Type_III",
          "Obesity_Type_III",
          "Obesity_Type_III",
          "Obesity_Type_III",
          "Obesity_Type_III",
          "Obesity_Type_III",
          "Obesity_Type_III",
          "Obesity_Type_III",
          "Obesity_Type_III",
          "Obesity_Type_III",
          "Obesity_Type_III",
          "Obesity_Type_III",
          "Obesity_Type_III",
          "Obesity_Type_III",
          "Obesity_Type_III",
          "Obesity_Type_III",
          "Obesity_Type_III",
          "Obesity_Type_III",
          "Obesity_Type_III",
          "Obesity_Type_III",
          "Obesity_Type_III",
          "Obesity_Type_III",
          "Obesity_Type_III",
          "Obesity_Type_III",
          "Obesity_Type_III",
          "Obesity_Type_III",
          "Obesity_Type_III",
          "Obesity_Type_III",
          "Obesity_Type_III",
          "Obesity_Type_III",
          "Obesity_Type_III",
          "Obesity_Type_III",
          "Obesity_Type_III",
          "Obesity_Type_III",
          "Obesity_Type_III",
          "Obesity_Type_III",
          "Obesity_Type_III",
          "Obesity_Type_III",
          "Obesity_Type_III",
          "Obesity_Type_III",
          "Obesity_Type_III",
          "Obesity_Type_III",
          "Obesity_Type_III",
          "Obesity_Type_III",
          "Obesity_Type_III",
          "Obesity_Type_III",
          "Obesity_Type_III",
          "Obesity_Type_III",
          "Obesity_Type_III",
          "Obesity_Type_III",
          "Obesity_Type_III",
          "Obesity_Type_III",
          "Obesity_Type_III",
          "Obesity_Type_III",
          "Obesity_Type_III",
          "Obesity_Type_III",
          "Obesity_Type_III",
          "Obesity_Type_III",
          "Obesity_Type_III",
          "Obesity_Type_III",
          "Obesity_Type_III",
          "Obesity_Type_III",
          "Obesity_Type_III",
          "Obesity_Type_III",
          "Obesity_Type_III",
          "Obesity_Type_III",
          "Obesity_Type_III",
          "Obesity_Type_III",
          "Obesity_Type_III",
          "Obesity_Type_III",
          "Obesity_Type_III",
          "Obesity_Type_III",
          "Obesity_Type_III",
          "Obesity_Type_III",
          "Obesity_Type_III",
          "Obesity_Type_III",
          "Obesity_Type_III",
          "Obesity_Type_III",
          "Obesity_Type_III",
          "Obesity_Type_III",
          "Obesity_Type_III",
          "Obesity_Type_III",
          "Obesity_Type_III",
          "Obesity_Type_III",
          "Obesity_Type_III",
          "Obesity_Type_III",
          "Obesity_Type_III",
          "Obesity_Type_III",
          "Obesity_Type_III",
          "Obesity_Type_III",
          "Obesity_Type_III",
          "Obesity_Type_III",
          "Obesity_Type_III",
          "Obesity_Type_III",
          "Obesity_Type_III",
          "Obesity_Type_III",
          "Obesity_Type_III",
          "Obesity_Type_III",
          "Obesity_Type_III",
          "Obesity_Type_III",
          "Obesity_Type_III",
          "Obesity_Type_III",
          "Obesity_Type_III",
          "Obesity_Type_III",
          "Obesity_Type_III",
          "Obesity_Type_III",
          "Obesity_Type_III",
          "Obesity_Type_III",
          "Obesity_Type_III",
          "Obesity_Type_III",
          "Obesity_Type_III",
          "Obesity_Type_III",
          "Obesity_Type_III",
          "Obesity_Type_III",
          "Obesity_Type_III",
          "Obesity_Type_III",
          "Obesity_Type_III",
          "Obesity_Type_III",
          "Obesity_Type_III",
          "Obesity_Type_III",
          "Obesity_Type_III",
          "Obesity_Type_III",
          "Obesity_Type_III",
          "Obesity_Type_III",
          "Obesity_Type_III",
          "Obesity_Type_III",
          "Obesity_Type_III",
          "Obesity_Type_III",
          "Obesity_Type_III",
          "Obesity_Type_III",
          "Obesity_Type_III",
          "Obesity_Type_III",
          "Obesity_Type_III",
          "Obesity_Type_III",
          "Obesity_Type_III",
          "Obesity_Type_III",
          "Obesity_Type_III",
          "Obesity_Type_III",
          "Obesity_Type_III",
          "Obesity_Type_III",
          "Obesity_Type_III",
          "Obesity_Type_III",
          "Obesity_Type_III",
          "Obesity_Type_III",
          "Obesity_Type_III",
          "Obesity_Type_III",
          "Obesity_Type_III",
          "Obesity_Type_III",
          "Obesity_Type_III",
          "Obesity_Type_III",
          "Obesity_Type_III",
          "Obesity_Type_III",
          "Obesity_Type_III",
          "Obesity_Type_III",
          "Obesity_Type_III",
          "Obesity_Type_III",
          "Obesity_Type_III",
          "Obesity_Type_III",
          "Obesity_Type_III",
          "Obesity_Type_III",
          "Obesity_Type_III",
          "Obesity_Type_III",
          "Obesity_Type_III",
          "Obesity_Type_III",
          "Obesity_Type_III",
          "Obesity_Type_III",
          "Obesity_Type_III",
          "Obesity_Type_III",
          "Obesity_Type_III",
          "Obesity_Type_III",
          "Obesity_Type_III",
          "Obesity_Type_III",
          "Obesity_Type_III",
          "Obesity_Type_III",
          "Obesity_Type_III",
          "Obesity_Type_III",
          "Obesity_Type_III",
          "Obesity_Type_III",
          "Obesity_Type_III",
          "Obesity_Type_III",
          "Obesity_Type_III",
          "Obesity_Type_III",
          "Obesity_Type_III",
          "Obesity_Type_III",
          "Obesity_Type_III",
          "Obesity_Type_III",
          "Obesity_Type_III",
          "Obesity_Type_III",
          "Obesity_Type_III",
          "Obesity_Type_III",
          "Obesity_Type_III",
          "Obesity_Type_III",
          "Obesity_Type_III",
          "Obesity_Type_III",
          "Obesity_Type_III",
          "Obesity_Type_III",
          "Obesity_Type_III",
          "Obesity_Type_III",
          "Obesity_Type_III",
          "Obesity_Type_III",
          "Obesity_Type_III",
          "Obesity_Type_III",
          "Obesity_Type_III",
          "Obesity_Type_III",
          "Obesity_Type_III",
          "Obesity_Type_III",
          "Obesity_Type_III",
          "Obesity_Type_III",
          "Obesity_Type_III",
          "Obesity_Type_III",
          "Obesity_Type_III",
          "Obesity_Type_III",
          "Obesity_Type_III",
          "Obesity_Type_III",
          "Obesity_Type_III",
          "Obesity_Type_III",
          "Obesity_Type_III",
          "Obesity_Type_III",
          "Obesity_Type_III",
          "Obesity_Type_III",
          "Obesity_Type_III",
          "Obesity_Type_III",
          "Obesity_Type_III",
          "Obesity_Type_III",
          "Obesity_Type_III",
          "Obesity_Type_III",
          "Obesity_Type_III",
          "Obesity_Type_III",
          "Obesity_Type_III",
          "Obesity_Type_III",
          "Obesity_Type_III",
          "Obesity_Type_III",
          "Obesity_Type_III",
          "Obesity_Type_III",
          "Obesity_Type_III",
          "Obesity_Type_III",
          "Obesity_Type_III",
          "Obesity_Type_III",
          "Obesity_Type_III",
          "Obesity_Type_III",
          "Obesity_Type_III",
          "Obesity_Type_III",
          "Obesity_Type_III",
          "Obesity_Type_III",
          "Obesity_Type_III",
          "Obesity_Type_III",
          "Obesity_Type_III",
          "Obesity_Type_III",
          "Obesity_Type_III",
          "Obesity_Type_III",
          "Obesity_Type_III",
          "Obesity_Type_III",
          "Obesity_Type_III",
          "Obesity_Type_III",
          "Obesity_Type_III",
          "Obesity_Type_III",
          "Obesity_Type_III",
          "Obesity_Type_III",
          "Obesity_Type_III",
          "Obesity_Type_III",
          "Obesity_Type_III",
          "Obesity_Type_III",
          "Obesity_Type_III",
          "Obesity_Type_III",
          "Obesity_Type_III",
          "Obesity_Type_III",
          "Obesity_Type_III",
          "Obesity_Type_III",
          "Obesity_Type_III",
          "Obesity_Type_III",
          "Obesity_Type_III",
          "Obesity_Type_III",
          "Obesity_Type_III"
         ],
         "x0": " ",
         "xaxis": "x",
         "y": {
          "bdata": "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",
          "dtype": "f8"
         },
         "y0": " ",
         "yaxis": "y"
        }
       ],
       "layout": {
        "boxmode": "group",
        "legend": {
         "tracegroupgap": 0
        },
        "template": {
         "data": {
          "bar": [
           {
            "error_x": {
             "color": "#2a3f5f"
            },
            "error_y": {
             "color": "#2a3f5f"
            },
            "marker": {
             "line": {
              "color": "#E5ECF6",
              "width": 0.5
             },
             "pattern": {
              "fillmode": "overlay",
              "size": 10,
              "solidity": 0.2
             }
            },
            "type": "bar"
           }
          ],
          "barpolar": [
           {
            "marker": {
             "line": {
              "color": "#E5ECF6",
              "width": 0.5
             },
             "pattern": {
              "fillmode": "overlay",
              "size": 10,
              "solidity": 0.2
             }
            },
            "type": "barpolar"
           }
          ],
          "carpet": [
           {
            "aaxis": {
             "endlinecolor": "#2a3f5f",
             "gridcolor": "white",
             "linecolor": "white",
             "minorgridcolor": "white",
             "startlinecolor": "#2a3f5f"
            },
            "baxis": {
             "endlinecolor": "#2a3f5f",
             "gridcolor": "white",
             "linecolor": "white",
             "minorgridcolor": "white",
             "startlinecolor": "#2a3f5f"
            },
            "type": "carpet"
           }
          ],
          "choropleth": [
           {
            "colorbar": {
             "outlinewidth": 0,
             "ticks": ""
            },
            "type": "choropleth"
           }
          ],
          "contour": [
           {
            "colorbar": {
             "outlinewidth": 0,
             "ticks": ""
            },
            "colorscale": [
             [
              0,
              "#0d0887"
             ],
             [
              0.1111111111111111,
              "#46039f"
             ],
             [
              0.2222222222222222,
              "#7201a8"
             ],
             [
              0.3333333333333333,
              "#9c179e"
             ],
             [
              0.4444444444444444,
              "#bd3786"
             ],
             [
              0.5555555555555556,
              "#d8576b"
             ],
             [
              0.6666666666666666,
              "#ed7953"
             ],
             [
              0.7777777777777778,
              "#fb9f3a"
             ],
             [
              0.8888888888888888,
              "#fdca26"
             ],
             [
              1,
              "#f0f921"
             ]
            ],
            "type": "contour"
           }
          ],
          "contourcarpet": [
           {
            "colorbar": {
             "outlinewidth": 0,
             "ticks": ""
            },
            "type": "contourcarpet"
           }
          ],
          "heatmap": [
           {
            "colorbar": {
             "outlinewidth": 0,
             "ticks": ""
            },
            "colorscale": [
             [
              0,
              "#0d0887"
             ],
             [
              0.1111111111111111,
              "#46039f"
             ],
             [
              0.2222222222222222,
              "#7201a8"
             ],
             [
              0.3333333333333333,
              "#9c179e"
             ],
             [
              0.4444444444444444,
              "#bd3786"
             ],
             [
              0.5555555555555556,
              "#d8576b"
             ],
             [
              0.6666666666666666,
              "#ed7953"
             ],
             [
              0.7777777777777778,
              "#fb9f3a"
             ],
             [
              0.8888888888888888,
              "#fdca26"
             ],
             [
              1,
              "#f0f921"
             ]
            ],
            "type": "heatmap"
           }
          ],
          "histogram": [
           {
            "marker": {
             "pattern": {
              "fillmode": "overlay",
              "size": 10,
              "solidity": 0.2
             }
            },
            "type": "histogram"
           }
          ],
          "histogram2d": [
           {
            "colorbar": {
             "outlinewidth": 0,
             "ticks": ""
            },
            "colorscale": [
             [
              0,
              "#0d0887"
             ],
             [
              0.1111111111111111,
              "#46039f"
             ],
             [
              0.2222222222222222,
              "#7201a8"
             ],
             [
              0.3333333333333333,
              "#9c179e"
             ],
             [
              0.4444444444444444,
              "#bd3786"
             ],
             [
              0.5555555555555556,
              "#d8576b"
             ],
             [
              0.6666666666666666,
              "#ed7953"
             ],
             [
              0.7777777777777778,
              "#fb9f3a"
             ],
             [
              0.8888888888888888,
              "#fdca26"
             ],
             [
              1,
              "#f0f921"
             ]
            ],
            "type": "histogram2d"
           }
          ],
          "histogram2dcontour": [
           {
            "colorbar": {
             "outlinewidth": 0,
             "ticks": ""
            },
            "colorscale": [
             [
              0,
              "#0d0887"
             ],
             [
              0.1111111111111111,
              "#46039f"
             ],
             [
              0.2222222222222222,
              "#7201a8"
             ],
             [
              0.3333333333333333,
              "#9c179e"
             ],
             [
              0.4444444444444444,
              "#bd3786"
             ],
             [
              0.5555555555555556,
              "#d8576b"
             ],
             [
              0.6666666666666666,
              "#ed7953"
             ],
             [
              0.7777777777777778,
              "#fb9f3a"
             ],
             [
              0.8888888888888888,
              "#fdca26"
             ],
             [
              1,
              "#f0f921"
             ]
            ],
            "type": "histogram2dcontour"
           }
          ],
          "mesh3d": [
           {
            "colorbar": {
             "outlinewidth": 0,
             "ticks": ""
            },
            "type": "mesh3d"
           }
          ],
          "parcoords": [
           {
            "line": {
             "colorbar": {
              "outlinewidth": 0,
              "ticks": ""
             }
            },
            "type": "parcoords"
           }
          ],
          "pie": [
           {
            "automargin": true,
            "type": "pie"
           }
          ],
          "scatter": [
           {
            "fillpattern": {
             "fillmode": "overlay",
             "size": 10,
             "solidity": 0.2
            },
            "type": "scatter"
           }
          ],
          "scatter3d": [
           {
            "line": {
             "colorbar": {
              "outlinewidth": 0,
              "ticks": ""
             }
            },
            "marker": {
             "colorbar": {
              "outlinewidth": 0,
              "ticks": ""
             }
            },
            "type": "scatter3d"
           }
          ],
          "scattercarpet": [
           {
            "marker": {
             "colorbar": {
              "outlinewidth": 0,
              "ticks": ""
             }
            },
            "type": "scattercarpet"
           }
          ],
          "scattergeo": [
           {
            "marker": {
             "colorbar": {
              "outlinewidth": 0,
              "ticks": ""
             }
            },
            "type": "scattergeo"
           }
          ],
          "scattergl": [
           {
            "marker": {
             "colorbar": {
              "outlinewidth": 0,
              "ticks": ""
             }
            },
            "type": "scattergl"
           }
          ],
          "scattermap": [
           {
            "marker": {
             "colorbar": {
              "outlinewidth": 0,
              "ticks": ""
             }
            },
            "type": "scattermap"
           }
          ],
          "scattermapbox": [
           {
            "marker": {
             "colorbar": {
              "outlinewidth": 0,
              "ticks": ""
             }
            },
            "type": "scattermapbox"
           }
          ],
          "scatterpolar": [
           {
            "marker": {
             "colorbar": {
              "outlinewidth": 0,
              "ticks": ""
             }
            },
            "type": "scatterpolar"
           }
          ],
          "scatterpolargl": [
           {
            "marker": {
             "colorbar": {
              "outlinewidth": 0,
              "ticks": ""
             }
            },
            "type": "scatterpolargl"
           }
          ],
          "scatterternary": [
           {
            "marker": {
             "colorbar": {
              "outlinewidth": 0,
              "ticks": ""
             }
            },
            "type": "scatterternary"
           }
          ],
          "surface": [
           {
            "colorbar": {
             "outlinewidth": 0,
             "ticks": ""
            },
            "colorscale": [
             [
              0,
              "#0d0887"
             ],
             [
              0.1111111111111111,
              "#46039f"
             ],
             [
              0.2222222222222222,
              "#7201a8"
             ],
             [
              0.3333333333333333,
              "#9c179e"
             ],
             [
              0.4444444444444444,
              "#bd3786"
             ],
             [
              0.5555555555555556,
              "#d8576b"
             ],
             [
              0.6666666666666666,
              "#ed7953"
             ],
             [
              0.7777777777777778,
              "#fb9f3a"
             ],
             [
              0.8888888888888888,
              "#fdca26"
             ],
             [
              1,
              "#f0f921"
             ]
            ],
            "type": "surface"
           }
          ],
          "table": [
           {
            "cells": {
             "fill": {
              "color": "#EBF0F8"
             },
             "line": {
              "color": "white"
             }
            },
            "header": {
             "fill": {
              "color": "#C8D4E3"
             },
             "line": {
              "color": "white"
             }
            },
            "type": "table"
           }
          ]
         },
         "layout": {
          "annotationdefaults": {
           "arrowcolor": "#2a3f5f",
           "arrowhead": 0,
           "arrowwidth": 1
          },
          "autotypenumbers": "strict",
          "coloraxis": {
           "colorbar": {
            "outlinewidth": 0,
            "ticks": ""
           }
          },
          "colorscale": {
           "diverging": [
            [
             0,
             "#8e0152"
            ],
            [
             0.1,
             "#c51b7d"
            ],
            [
             0.2,
             "#de77ae"
            ],
            [
             0.3,
             "#f1b6da"
            ],
            [
             0.4,
             "#fde0ef"
            ],
            [
             0.5,
             "#f7f7f7"
            ],
            [
             0.6,
             "#e6f5d0"
            ],
            [
             0.7,
             "#b8e186"
            ],
            [
             0.8,
             "#7fbc41"
            ],
            [
             0.9,
             "#4d9221"
            ],
            [
             1,
             "#276419"
            ]
           ],
           "sequential": [
            [
             0,
             "#0d0887"
            ],
            [
             0.1111111111111111,
             "#46039f"
            ],
            [
             0.2222222222222222,
             "#7201a8"
            ],
            [
             0.3333333333333333,
             "#9c179e"
            ],
            [
             0.4444444444444444,
             "#bd3786"
            ],
            [
             0.5555555555555556,
             "#d8576b"
            ],
            [
             0.6666666666666666,
             "#ed7953"
            ],
            [
             0.7777777777777778,
             "#fb9f3a"
            ],
            [
             0.8888888888888888,
             "#fdca26"
            ],
            [
             1,
             "#f0f921"
            ]
           ],
           "sequentialminus": [
            [
             0,
             "#0d0887"
            ],
            [
             0.1111111111111111,
             "#46039f"
            ],
            [
             0.2222222222222222,
             "#7201a8"
            ],
            [
             0.3333333333333333,
             "#9c179e"
            ],
            [
             0.4444444444444444,
             "#bd3786"
            ],
            [
             0.5555555555555556,
             "#d8576b"
            ],
            [
             0.6666666666666666,
             "#ed7953"
            ],
            [
             0.7777777777777778,
             "#fb9f3a"
            ],
            [
             0.8888888888888888,
             "#fdca26"
            ],
            [
             1,
             "#f0f921"
            ]
           ]
          },
          "colorway": [
           "#636efa",
           "#EF553B",
           "#00cc96",
           "#ab63fa",
           "#FFA15A",
           "#19d3f3",
           "#FF6692",
           "#B6E880",
           "#FF97FF",
           "#FECB52"
          ],
          "font": {
           "color": "#2a3f5f"
          },
          "geo": {
           "bgcolor": "white",
           "lakecolor": "white",
           "landcolor": "#E5ECF6",
           "showlakes": true,
           "showland": true,
           "subunitcolor": "white"
          },
          "hoverlabel": {
           "align": "left"
          },
          "hovermode": "closest",
          "mapbox": {
           "style": "light"
          },
          "paper_bgcolor": "white",
          "plot_bgcolor": "#E5ECF6",
          "polar": {
           "angularaxis": {
            "gridcolor": "white",
            "linecolor": "white",
            "ticks": ""
           },
           "bgcolor": "#E5ECF6",
           "radialaxis": {
            "gridcolor": "white",
            "linecolor": "white",
            "ticks": ""
           }
          },
          "scene": {
           "xaxis": {
            "backgroundcolor": "#E5ECF6",
            "gridcolor": "white",
            "gridwidth": 2,
            "linecolor": "white",
            "showbackground": true,
            "ticks": "",
            "zerolinecolor": "white"
           },
           "yaxis": {
            "backgroundcolor": "#E5ECF6",
            "gridcolor": "white",
            "gridwidth": 2,
            "linecolor": "white",
            "showbackground": true,
            "ticks": "",
            "zerolinecolor": "white"
           },
           "zaxis": {
            "backgroundcolor": "#E5ECF6",
            "gridcolor": "white",
            "gridwidth": 2,
            "linecolor": "white",
            "showbackground": true,
            "ticks": "",
            "zerolinecolor": "white"
           }
          },
          "shapedefaults": {
           "line": {
            "color": "#2a3f5f"
           }
          },
          "ternary": {
           "aaxis": {
            "gridcolor": "white",
            "linecolor": "white",
            "ticks": ""
           },
           "baxis": {
            "gridcolor": "white",
            "linecolor": "white",
            "ticks": ""
           },
           "bgcolor": "#E5ECF6",
           "caxis": {
            "gridcolor": "white",
            "linecolor": "white",
            "ticks": ""
           }
          },
          "title": {
           "x": 0.05
          },
          "xaxis": {
           "automargin": true,
           "gridcolor": "white",
           "linecolor": "white",
           "ticks": "",
           "title": {
            "standoff": 15
           },
           "zerolinecolor": "white",
           "zerolinewidth": 2
          },
          "yaxis": {
           "automargin": true,
           "gridcolor": "white",
           "linecolor": "white",
           "ticks": "",
           "title": {
            "standoff": 15
           },
           "zerolinecolor": "white",
           "zerolinewidth": 2
          }
         }
        },
        "title": {
         "text": "Height Distribution by Obesity Category"
        },
        "xaxis": {
         "anchor": "y",
         "categoryarray": [
          "Obesity_Type_III",
          "Obesity_Type_II",
          "Obesity_Type_I",
          "Overweight_Level_II",
          "Overweight_Level_I",
          "Normal_Weight",
          "Insufficient_Weight"
         ],
         "categoryorder": "array",
         "domain": [
          0,
          1
         ],
         "title": {
          "text": "Obesity Category"
         }
        },
        "yaxis": {
         "anchor": "x",
         "domain": [
          0,
          1
         ],
         "title": {
          "text": "Height (meters)"
         }
        }
       }
      }
     },
     "metadata": {},
     "output_type": "display_data"
    }
   ],
   "source": [
    "# make a box plot of height by obesity category\n",
    "fig = px.box(\n",
    "    data_frame=df,\n",
    "    x='NObeyesdad',\n",
    "    y='Height',\n",
    "    title='Height Distribution by Obesity Category',\n",
    "    labels={'NObeyesdad': 'Obesity Category', 'Height': 'Height (meters)'},\n",
    "    category_orders={\"NObeyesdad\": ['Obesity_Type_III', 'Obesity_Type_II', 'Obesity_Type_I', 'Overweight_Level_II', 'Overweight_Level_I', 'Normal_Weight', 'Insufficient_Weight']}\n",
    ")\n",
    "\n",
    "fig.show()"
   ]
  },
  {
   "cell_type": "markdown",
   "metadata": {},
   "source": [
    "The height distribution is more uniform across all categories. This reinforces that weight, not height, is the more defining physical feature in determining obesity categories within this dataset."
   ]
  },
  {
   "cell_type": "markdown",
   "metadata": {},
   "source": [
    "#### To Conclude:\n",
    "This exploratory data analysis shows several important insights into the factors associated with obesity. This dataset is well-structured with no missing values and an evenly distributed mix of lifestyle, demographic, and physical features. Our target variable, obesity, has a consistent distribution across the seven categories. Weight distribution by obesity category reveals that individuals in higher obesity classes have higher weights. Obesity appears influenced by multiple lifestyle and behavioral factors, with weak individual correlations. These patterns support the need for a multi-feature classification model to accurately predict obesity levels.\n",
    "\n",
    "Our question regards if it is possible to predict obesity without relying on BMI. In this case, other factors, like age, how many main meals are had a day (NCP),how much water is had daily (CH2O), and how often vegetables are consumed (FCVC) are going to help us in our model to predict obesity."
   ]
  }
 ],
 "metadata": {
  "kernelspec": {
   "display_name": "base",
   "language": "python",
   "name": "python3"
  },
  "language_info": {
   "codemirror_mode": {
    "name": "ipython",
    "version": 3
   },
   "file_extension": ".py",
   "mimetype": "text/x-python",
   "name": "python",
   "nbconvert_exporter": "python",
   "pygments_lexer": "ipython3",
   "version": "3.12.7"
  }
 },
 "nbformat": 4,
 "nbformat_minor": 2
}
